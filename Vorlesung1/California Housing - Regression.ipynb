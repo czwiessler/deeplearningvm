{
 "cells": [
  {
   "cell_type": "markdown",
   "metadata": {},
   "source": [
    "This notebook demonstrates the use of a nearest neighbors regression model for the \"housing\" dataset. You can download the dataset from http://lib.stat.cmu.edu/datasets/.\n",
    "\n",
    "**Comments:** \"*The file cadata.txt contains all the the variables. Specifically, it contains median house value, median income, housing median age, total rooms, total bedrooms, population, households, latitude, and longitude in that order. The dependent variable is ln(median house value).*\""
   ]
  },
  {
   "cell_type": "code",
   "execution_count": 1,
   "metadata": {},
   "outputs": [],
   "source": [
    "import numpy\n",
    "\n",
    "# load data from text file (note that the initial comments have been deleted from the original file)\n",
    "data = numpy.loadtxt(\"cadata.txt\")\n",
    "\n",
    "# the first column corresponds to the target variables; the remaining ones are the features\n",
    "y, X = data[:,0], data[:,1:]"
   ]
  },
  {
   "cell_type": "code",
   "execution_count": 2,
   "metadata": {},
   "outputs": [],
   "source": [
    "# YOUR TASKS\n",
    "# - split up the data into training, validation, test sets\n",
    "# - conduct a grid search for the number of nearest neighbors using the validation set; \n",
    "# - assess the final quality of the model using the root mean squared error (RMSE; check out on your own)\n",
    "# - generate a plot \"predictions vs. true labels\"\n",
    "# - try to improve the performance!"
   ]
  },
  {
   "cell_type": "code",
   "execution_count": null,
   "metadata": {},
   "outputs": [],
   "source": []
  }
 ],
 "metadata": {
  "kernelspec": {
   "display_name": "Python 3 (ipykernel)",
   "language": "python",
   "name": "python3"
  },
  "language_info": {
   "codemirror_mode": {
    "name": "ipython",
    "version": 3
   },
   "file_extension": ".py",
   "mimetype": "text/x-python",
   "name": "python",
   "nbconvert_exporter": "python",
   "pygments_lexer": "ipython3",
   "version": "3.8.10"
  }
 },
 "nbformat": 4,
 "nbformat_minor": 4
}
