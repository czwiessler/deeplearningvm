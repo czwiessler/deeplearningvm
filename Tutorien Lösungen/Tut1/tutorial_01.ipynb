{
 "cells": [
  {
   "cell_type": "code",
   "execution_count": 1,
   "outputs": [],
   "source": [
    "#!pip install torch numpy pandas matplotlib"
   ],
   "metadata": {
    "collapsed": false,
    "ExecuteTime": {
     "end_time": "2023-07-27T09:27:41.621337400Z",
     "start_time": "2023-07-27T09:27:41.612339500Z"
    }
   }
  },
  {
   "cell_type": "code",
   "execution_count": 2,
   "outputs": [],
   "source": [
    "import torch\n",
    "import numpy as np"
   ],
   "metadata": {
    "collapsed": false,
    "ExecuteTime": {
     "end_time": "2023-07-27T09:27:44.872464200Z",
     "start_time": "2023-07-27T09:27:41.625321100Z"
    }
   }
  },
  {
   "cell_type": "markdown",
   "source": [
    "### Create a Numpy Array and compute 2 * x + y"
   ],
   "metadata": {
    "collapsed": false
   }
  },
  {
   "cell_type": "code",
   "execution_count": 3,
   "outputs": [
    {
     "name": "stdout",
     "output_type": "stream",
     "text": [
      "[[ 9 12 15]\n",
      " [18 21 24]]\n"
     ]
    }
   ],
   "source": [
    "x = np.array([[1,2,3], [4,5,6]])\n",
    "y = np.array([[7,8,9], [10,11,12]])\n",
    "f = 2 * x + y\n",
    "print(f)"
   ],
   "metadata": {
    "collapsed": false,
    "ExecuteTime": {
     "end_time": "2023-07-27T09:27:44.897201300Z",
     "start_time": "2023-07-27T09:27:44.874466600Z"
    }
   }
  },
  {
   "cell_type": "markdown",
   "source": [
    "### Create a Tensor and compute 2 * x + y"
   ],
   "metadata": {
    "collapsed": false
   }
  },
  {
   "cell_type": "code",
   "execution_count": 4,
   "outputs": [
    {
     "name": "stdout",
     "output_type": "stream",
     "text": [
      "tensor([[ 9, 12, 15],\n",
      "        [18, 21, 24]])\n"
     ]
    }
   ],
   "source": [
    "x = torch.tensor([[1,2,3], [4,5,6]])\n",
    "y = torch.tensor([[7,8,9], [10,11,12]])\n",
    "f = 2 * x + y\n",
    "print(f)"
   ],
   "metadata": {
    "collapsed": false,
    "ExecuteTime": {
     "end_time": "2023-07-27T09:27:44.977547Z",
     "start_time": "2023-07-27T09:27:44.889033200Z"
    }
   }
  },
  {
   "cell_type": "markdown",
   "source": [
    "### Default Value Initialization"
   ],
   "metadata": {
    "collapsed": false
   }
  },
  {
   "cell_type": "code",
   "execution_count": 5,
   "outputs": [
    {
     "name": "stdout",
     "output_type": "stream",
     "text": [
      "tensor([[0., 0., 0.],\n",
      "        [0., 0., 0.]])\n",
      "tensor([[1., 1., 1.],\n",
      "        [1., 1., 1.]])\n",
      "tensor([[0.6122, 0.3229, 0.0812],\n",
      "        [0.2985, 0.7375, 0.2466]])\n"
     ]
    }
   ],
   "source": [
    "shape = [2,3]\n",
    "xzeros = torch.zeros(shape)\n",
    "xones = torch.ones(shape)\n",
    "xrnd = torch.rand(shape)\n",
    "print(xzeros)\n",
    "print(xones)\n",
    "print(xrnd)"
   ],
   "metadata": {
    "collapsed": false,
    "ExecuteTime": {
     "end_time": "2023-07-27T09:27:45.015657500Z",
     "start_time": "2023-07-27T09:27:44.906204900Z"
    }
   }
  },
  {
   "cell_type": "markdown",
   "source": [
    "### Bad way to set seed (global seed)"
   ],
   "metadata": {
    "collapsed": false
   }
  },
  {
   "cell_type": "code",
   "execution_count": 6,
   "outputs": [
    {
     "name": "stdout",
     "output_type": "stream",
     "text": [
      "tensor([[0.8823, 0.9150, 0.3829],\n",
      "        [0.9593, 0.3904, 0.6009]])\n"
     ]
    }
   ],
   "source": [
    "torch.manual_seed(42)\n",
    "print(torch.rand([2,3]))"
   ],
   "metadata": {
    "collapsed": false,
    "ExecuteTime": {
     "end_time": "2023-07-27T09:27:45.017658300Z",
     "start_time": "2023-07-27T09:27:44.919224500Z"
    }
   }
  },
  {
   "cell_type": "markdown",
   "source": [
    "### Good way to set seed (using generator)"
   ],
   "metadata": {
    "collapsed": false
   }
  },
  {
   "cell_type": "code",
   "execution_count": 7,
   "outputs": [
    {
     "name": "stdout",
     "output_type": "stream",
     "text": [
      "tensor([[0.8823, 0.9150, 0.3829],\n",
      "        [0.9593, 0.3904, 0.6009]])\n"
     ]
    }
   ],
   "source": [
    "generator = torch.Generator().manual_seed(42)\n",
    "print(torch.rand([2,3], generator=generator))"
   ],
   "metadata": {
    "collapsed": false,
    "ExecuteTime": {
     "end_time": "2023-07-27T09:27:45.018659500Z",
     "start_time": "2023-07-27T09:27:44.950457500Z"
    }
   }
  },
  {
   "cell_type": "markdown",
   "source": [
    "### Converting between tensors and NumPy arrays"
   ],
   "metadata": {
    "collapsed": false
   }
  },
  {
   "cell_type": "code",
   "execution_count": 8,
   "outputs": [
    {
     "name": "stdout",
     "output_type": "stream",
     "text": [
      "tensor([[ 8, 10, 12],\n",
      "        [14, 16, 18]])\n"
     ]
    },
    {
     "data": {
      "text/plain": "'torch.LongTensor'"
     },
     "execution_count": 8,
     "metadata": {},
     "output_type": "execute_result"
    }
   ],
   "source": [
    "xnp = np.array([[1,2,3],[4,5,6]])\n",
    "xnp2 = np.array([[1,2,3],[4,5,6]])\n",
    "f2 = y + xnp\n",
    "print(f2)\n",
    "f2.type()"
   ],
   "metadata": {
    "collapsed": false,
    "ExecuteTime": {
     "end_time": "2023-07-27T09:27:45.037048800Z",
     "start_time": "2023-07-27T09:27:44.966020400Z"
    }
   }
  },
  {
   "cell_type": "code",
   "execution_count": 9,
   "outputs": [
    {
     "name": "stdout",
     "output_type": "stream",
     "text": [
      "torch.LongTensor\n"
     ]
    },
    {
     "data": {
      "text/plain": "numpy.ndarray"
     },
     "execution_count": 9,
     "metadata": {},
     "output_type": "execute_result"
    }
   ],
   "source": [
    "print(f.type()) # call the tensors type method\n",
    "fnp = f.numpy() # create an array from the tensor\n",
    "type(fnp) # uses the python inbuilt type()"
   ],
   "metadata": {
    "collapsed": false,
    "ExecuteTime": {
     "end_time": "2023-07-27T09:27:45.038037600Z",
     "start_time": "2023-07-27T09:27:44.986557800Z"
    }
   }
  },
  {
   "cell_type": "code",
   "execution_count": 10,
   "outputs": [
    {
     "name": "stdout",
     "output_type": "stream",
     "text": [
      "tensor([[1, 2, 3],\n",
      "        [4, 5, 6]], dtype=torch.int32)\n",
      "torch.IntTensor\n",
      "tensor([[1, 2, 3],\n",
      "        [4, 5, 6]], dtype=torch.int32)\n",
      "torch.IntTensor\n"
     ]
    }
   ],
   "source": [
    "xtensor = torch.tensor(xnp) # Don't use torch.from_numpy\n",
    "xtensor2 = torch.from_numpy(xnp2) # Don't use torch.from_numpy\n",
    "print(xtensor)\n",
    "print(xtensor.type())\n",
    "print(xtensor2)\n",
    "print(xtensor2.type())"
   ],
   "metadata": {
    "collapsed": false,
    "ExecuteTime": {
     "end_time": "2023-07-27T09:27:45.196347600Z",
     "start_time": "2023-07-27T09:27:45.000919700Z"
    }
   }
  },
  {
   "cell_type": "code",
   "execution_count": 11,
   "outputs": [
    {
     "name": "stdout",
     "output_type": "stream",
     "text": [
      "False\n",
      "[1. 0. 1.]\n",
      "tensor([1., 0., 1.], dtype=torch.float64)\n"
     ]
    }
   ],
   "source": [
    "a = np.ones(3)\n",
    "t = torch.tensor(a)      # create a tensor from an array\n",
    "b = t.numpy()                # Create an array from the tensor\n",
    "b[1] = 0                     # change a value in the array\n",
    "print(a[1] == b[1])          # this value changes in the original array\n",
    "print(b)\n",
    "print(t)                     # and also in the tensor - they share the same memory"
   ],
   "metadata": {
    "collapsed": false,
    "ExecuteTime": {
     "end_time": "2023-07-27T09:27:45.243460900Z",
     "start_time": "2023-07-27T09:27:45.016657200Z"
    }
   }
  },
  {
   "cell_type": "markdown",
   "source": [
    "### Data Types with Numpy and Pytorch"
   ],
   "metadata": {
    "collapsed": false
   }
  },
  {
   "cell_type": "code",
   "execution_count": 12,
   "outputs": [
    {
     "data": {
      "text/plain": "'torch.CharTensor'"
     },
     "execution_count": 12,
     "metadata": {},
     "output_type": "execute_result"
    }
   ],
   "source": [
    "int8np = np.ones((2,3), dtype=np.int8)\n",
    "bad = torch.tensor(int8np)\n",
    "bad.type()"
   ],
   "metadata": {
    "collapsed": false,
    "ExecuteTime": {
     "end_time": "2023-07-27T09:27:45.298033500Z",
     "start_time": "2023-07-27T09:27:45.030043200Z"
    }
   }
  },
  {
   "cell_type": "code",
   "execution_count": 13,
   "outputs": [
    {
     "data": {
      "text/plain": "'torch.IntTensor'"
     },
     "execution_count": 13,
     "metadata": {},
     "output_type": "execute_result"
    }
   ],
   "source": [
    "not_so_good = torch.tensor(int8np.astype(np.int32))\n",
    "not_so_good.type()"
   ],
   "metadata": {
    "collapsed": false,
    "ExecuteTime": {
     "end_time": "2023-07-27T09:27:45.299034300Z",
     "start_time": "2023-07-27T09:27:45.061059500Z"
    }
   }
  },
  {
   "cell_type": "code",
   "execution_count": 14,
   "outputs": [
    {
     "data": {
      "text/plain": "'torch.IntTensor'"
     },
     "execution_count": 14,
     "metadata": {},
     "output_type": "execute_result"
    }
   ],
   "source": [
    "good = torch.tensor(int8np, dtype=torch.int)\n",
    "good.type()"
   ],
   "metadata": {
    "collapsed": false,
    "ExecuteTime": {
     "end_time": "2023-07-27T09:27:45.300035900Z",
     "start_time": "2023-07-27T09:27:45.069066200Z"
    }
   }
  },
  {
   "cell_type": "code",
   "execution_count": 15,
   "outputs": [
    {
     "name": "stdout",
     "output_type": "stream",
     "text": [
      "tensor([[1, 1, 1],\n",
      "        [1, 1, 1]], dtype=torch.int32)\n"
     ]
    }
   ],
   "source": [
    "xint = torch.ones((2,3), dtype=torch.int)\n",
    "xint.type()\n",
    "print(xint)"
   ],
   "metadata": {
    "collapsed": false,
    "ExecuteTime": {
     "end_time": "2023-07-27T09:27:45.301037600Z",
     "start_time": "2023-07-27T09:27:45.078049600Z"
    }
   }
  },
  {
   "cell_type": "markdown",
   "source": [
    "### Slicing and indexing and reshaping"
   ],
   "metadata": {
    "collapsed": false
   }
  },
  {
   "cell_type": "code",
   "execution_count": 16,
   "outputs": [
    {
     "name": "stdout",
     "output_type": "stream",
     "text": [
      "tensor([1, 2, 3])\n",
      "tensor([4, 5])\n"
     ]
    }
   ],
   "source": [
    "x = torch.tensor([[1,2,3], [4,5,6]])\n",
    "print(x[0])\n",
    "print(x[1][0:2])"
   ],
   "metadata": {
    "collapsed": false,
    "ExecuteTime": {
     "end_time": "2023-07-27T09:27:45.303039100Z",
     "start_time": "2023-07-27T09:27:45.094707100Z"
    }
   }
  },
  {
   "cell_type": "code",
   "execution_count": 17,
   "outputs": [
    {
     "name": "stdout",
     "output_type": "stream",
     "text": [
      "tensor([[1, 2, 3],\n",
      "        [4, 5, 6]])\n",
      "torch.Size([2, 3])\n",
      "tensor([1, 2, 3, 4, 5, 6])\n",
      "tensor([[1, 2],\n",
      "        [3, 4],\n",
      "        [5, 6]])\n",
      "tensor([[1],\n",
      "        [2],\n",
      "        [3],\n",
      "        [4],\n",
      "        [5],\n",
      "        [6]])\n"
     ]
    }
   ],
   "source": [
    "print(x)\n",
    "print(x.size())\n",
    "print(x.view(-1))\n",
    "print(x.view(3,2))\n",
    "print(x.view(6,1))"
   ],
   "metadata": {
    "collapsed": false,
    "ExecuteTime": {
     "end_time": "2023-07-27T09:27:45.306135500Z",
     "start_time": "2023-07-27T09:27:45.107462100Z"
    }
   }
  },
  {
   "cell_type": "code",
   "execution_count": 18,
   "outputs": [
    {
     "name": "stdout",
     "output_type": "stream",
     "text": [
      "tensor([[1, 2],\n",
      "        [3, 4],\n",
      "        [5, 6]])\n"
     ]
    }
   ],
   "source": [
    "print(x.view(3,-1))"
   ],
   "metadata": {
    "collapsed": false,
    "ExecuteTime": {
     "end_time": "2023-07-27T09:27:45.307136900Z",
     "start_time": "2023-07-27T09:27:45.123471600Z"
    }
   }
  },
  {
   "cell_type": "code",
   "execution_count": 19,
   "outputs": [
    {
     "name": "stdout",
     "output_type": "stream",
     "text": [
      "torch.Size([3, 2])\n"
     ]
    },
    {
     "data": {
      "text/plain": "torch.Size([2, 3])"
     },
     "execution_count": 19,
     "metadata": {},
     "output_type": "execute_result"
    }
   ],
   "source": [
    "print(x.transpose(0,1).size())\n",
    "x.size()"
   ],
   "metadata": {
    "collapsed": false,
    "ExecuteTime": {
     "end_time": "2023-07-27T09:27:45.309138600Z",
     "start_time": "2023-07-27T09:27:45.139470900Z"
    }
   }
  },
  {
   "cell_type": "code",
   "execution_count": 20,
   "outputs": [
    {
     "name": "stdout",
     "output_type": "stream",
     "text": [
      "torch.Size([4, 3, 2, 1])\n",
      "torch.Size([4, 3, 2, 1])\n"
     ]
    }
   ],
   "source": [
    "a = torch.ones(1,2,3,4)\n",
    "print(a.transpose(0,3).transpose(1,2).size())    #swaps axis in two steps\n",
    "print(a.permute(3,2,1,0).size())                 #swaps all axis at once"
   ],
   "metadata": {
    "collapsed": false,
    "ExecuteTime": {
     "end_time": "2023-07-27T09:27:45.311141400Z",
     "start_time": "2023-07-27T09:27:45.155484600Z"
    }
   }
  },
  {
   "cell_type": "code",
   "execution_count": 21,
   "outputs": [
    {
     "name": "stdout",
     "output_type": "stream",
     "text": [
      "tensor([[1, 2, 3],\n",
      "        [4, 5, 6]])\n",
      "tensor([[1, 4],\n",
      "        [2, 5],\n",
      "        [3, 6]])\n"
     ]
    }
   ],
   "source": [
    "print(x)\n",
    "x.transpose_(1,0)\n",
    "print(x)"
   ],
   "metadata": {
    "collapsed": false,
    "ExecuteTime": {
     "end_time": "2023-07-27T09:27:45.312140400Z",
     "start_time": "2023-07-27T09:27:45.172457400Z"
    }
   }
  },
  {
   "cell_type": "markdown",
   "source": [
    "## 1. Load fish.csv and convert it to a tensor but ignore first column (Species). Split column \"Width\" as target variable and all other as input variables"
   ],
   "metadata": {
    "collapsed": false
   }
  },
  {
   "cell_type": "code",
   "execution_count": 22,
   "outputs": [
    {
     "data": {
      "text/plain": "    Species  Length1  Length2  Length3   Height   Width\n0     Bream     23.2     25.4     30.0  11.5200  4.0200\n1     Bream     24.0     26.3     31.2  12.4800  4.3056\n2     Bream     23.9     26.5     31.1  12.3778  4.6961\n3     Bream     26.3     29.0     33.5  12.7300  4.4555\n4     Bream     26.5     29.0     34.0  12.4440  5.1340\n..      ...      ...      ...      ...      ...     ...\n154   Smelt     11.5     12.2     13.4   2.0904  1.3936\n155   Smelt     11.7     12.4     13.5   2.4300  1.2690\n156   Smelt     12.1     13.0     13.8   2.2770  1.2558\n157   Smelt     13.2     14.3     15.2   2.8728  2.0672\n158   Smelt     13.8     15.0     16.2   2.9322  1.8792\n\n[159 rows x 6 columns]",
      "text/html": "<div>\n<style scoped>\n    .dataframe tbody tr th:only-of-type {\n        vertical-align: middle;\n    }\n\n    .dataframe tbody tr th {\n        vertical-align: top;\n    }\n\n    .dataframe thead th {\n        text-align: right;\n    }\n</style>\n<table border=\"1\" class=\"dataframe\">\n  <thead>\n    <tr style=\"text-align: right;\">\n      <th></th>\n      <th>Species</th>\n      <th>Length1</th>\n      <th>Length2</th>\n      <th>Length3</th>\n      <th>Height</th>\n      <th>Width</th>\n    </tr>\n  </thead>\n  <tbody>\n    <tr>\n      <th>0</th>\n      <td>Bream</td>\n      <td>23.2</td>\n      <td>25.4</td>\n      <td>30.0</td>\n      <td>11.5200</td>\n      <td>4.0200</td>\n    </tr>\n    <tr>\n      <th>1</th>\n      <td>Bream</td>\n      <td>24.0</td>\n      <td>26.3</td>\n      <td>31.2</td>\n      <td>12.4800</td>\n      <td>4.3056</td>\n    </tr>\n    <tr>\n      <th>2</th>\n      <td>Bream</td>\n      <td>23.9</td>\n      <td>26.5</td>\n      <td>31.1</td>\n      <td>12.3778</td>\n      <td>4.6961</td>\n    </tr>\n    <tr>\n      <th>3</th>\n      <td>Bream</td>\n      <td>26.3</td>\n      <td>29.0</td>\n      <td>33.5</td>\n      <td>12.7300</td>\n      <td>4.4555</td>\n    </tr>\n    <tr>\n      <th>4</th>\n      <td>Bream</td>\n      <td>26.5</td>\n      <td>29.0</td>\n      <td>34.0</td>\n      <td>12.4440</td>\n      <td>5.1340</td>\n    </tr>\n    <tr>\n      <th>...</th>\n      <td>...</td>\n      <td>...</td>\n      <td>...</td>\n      <td>...</td>\n      <td>...</td>\n      <td>...</td>\n    </tr>\n    <tr>\n      <th>154</th>\n      <td>Smelt</td>\n      <td>11.5</td>\n      <td>12.2</td>\n      <td>13.4</td>\n      <td>2.0904</td>\n      <td>1.3936</td>\n    </tr>\n    <tr>\n      <th>155</th>\n      <td>Smelt</td>\n      <td>11.7</td>\n      <td>12.4</td>\n      <td>13.5</td>\n      <td>2.4300</td>\n      <td>1.2690</td>\n    </tr>\n    <tr>\n      <th>156</th>\n      <td>Smelt</td>\n      <td>12.1</td>\n      <td>13.0</td>\n      <td>13.8</td>\n      <td>2.2770</td>\n      <td>1.2558</td>\n    </tr>\n    <tr>\n      <th>157</th>\n      <td>Smelt</td>\n      <td>13.2</td>\n      <td>14.3</td>\n      <td>15.2</td>\n      <td>2.8728</td>\n      <td>2.0672</td>\n    </tr>\n    <tr>\n      <th>158</th>\n      <td>Smelt</td>\n      <td>13.8</td>\n      <td>15.0</td>\n      <td>16.2</td>\n      <td>2.9322</td>\n      <td>1.8792</td>\n    </tr>\n  </tbody>\n</table>\n<p>159 rows × 6 columns</p>\n</div>"
     },
     "execution_count": 22,
     "metadata": {},
     "output_type": "execute_result"
    }
   ],
   "source": [
    "import pandas as pd\n",
    "fish_data = pd.read_csv('fish.csv')\n",
    "fish_data"
   ],
   "metadata": {
    "collapsed": false,
    "ExecuteTime": {
     "end_time": "2023-07-27T09:27:46.006918200Z",
     "start_time": "2023-07-27T09:27:45.185062700Z"
    }
   }
  },
  {
   "cell_type": "code",
   "execution_count": 23,
   "outputs": [
    {
     "name": "stdout",
     "output_type": "stream",
     "text": [
      "(159, 4)\n",
      "(159,)\n"
     ]
    }
   ],
   "source": [
    "X = fish_data[[\"Length1\", \"Length2\", \"Length3\", \"Height\"]].to_numpy() # Input variables (Numpy)\n",
    "print(X.shape)\n",
    "y = fish_data[\"Width\"].to_numpy() # Target Variable (Numpy)\n",
    "print(y.shape)\n",
    "X,y = torch.tensor(X), torch.tensor(y)"
   ],
   "metadata": {
    "collapsed": false,
    "ExecuteTime": {
     "end_time": "2023-07-27T09:27:46.057467100Z",
     "start_time": "2023-07-27T09:27:45.994480200Z"
    }
   }
  },
  {
   "cell_type": "markdown",
   "source": [
    "## 2. Split fish_data into training (n=127) and test set (n=32), randomly."
   ],
   "metadata": {
    "collapsed": false
   }
  },
  {
   "cell_type": "code",
   "execution_count": 24,
   "outputs": [],
   "source": [
    "from sklearn.model_selection import train_test_split\n",
    "generator = torch.Generator().manual_seed(42)\n",
    "idx = torch.randperm(X.shape[0], generator=generator)\n",
    "X_train, X_test = X[idx[:127],:], X[idx[127:],:]\n",
    "y_train, y_test = train_test_split(y, test_size= 127, random_state=42)"
   ],
   "metadata": {
    "collapsed": false,
    "ExecuteTime": {
     "end_time": "2023-07-27T09:27:47.843480Z",
     "start_time": "2023-07-27T09:27:46.009918300Z"
    }
   }
  },
  {
   "cell_type": "markdown",
   "source": [
    "## 3.1. Normalize Dataset: X = (X - X.min) / (X.max - X.min)"
   ],
   "metadata": {
    "collapsed": false
   }
  },
  {
   "cell_type": "code",
   "execution_count": 25,
   "outputs": [],
   "source": [
    "# Lambda Function\n",
    "normalize = lambda z, z_min, z_max: (z / z_min) / (z_max / z_min + 1e-7)\n",
    "#print(X_train.min(0, keepdim=True)[0])\n",
    "# Normalize X\n",
    "x_min, x_max = X_train.min(0, keepdim=True)[0], X_train.max(0, keepdim=True)[0]\n",
    "X_train_n, X_test_n = normalize(X_train, x_min, x_max), normalize(X_test, x_min, x_max)\n",
    "# Normalize y\n",
    "y_min, y_max = y_train.min(0,keepdim=True)[0], y_train.max(0,keepdim=True)[0]\n",
    "y_train_n, y_test_n = normalize(y_train, y_min, y_max), normalize(y_test, y_min, y_max)"
   ],
   "metadata": {
    "collapsed": false,
    "ExecuteTime": {
     "end_time": "2023-07-27T09:27:47.869065600Z",
     "start_time": "2023-07-27T09:27:47.844482300Z"
    }
   }
  },
  {
   "cell_type": "markdown",
   "source": [
    "## 3.2. Standardize Dataset: X = (X - X.mean) / X.std"
   ],
   "metadata": {
    "collapsed": false
   }
  },
  {
   "cell_type": "code",
   "execution_count": 26,
   "outputs": [],
   "source": [
    "# Lambda Function\n",
    "standardize = lambda z, z_mean, z_std: (z - z_mean) / (z_std + 1e-7)\n",
    "\n",
    "# Standardize X\n",
    "x_mean, x_std = X_train.mean(0, keepdim=True)[0], X_train.std(0, keepdim=True)[0]\n",
    "\n",
    "X_train_s, X_test_s = standardize(X_train, x_mean, x_std), standardize(X_test, x_mean, x_std)\n",
    "#print(X_train_s)\n",
    "# Standardize y\n",
    "y_mean, y_std = y_train.mean(0,keepdim=True)[0], y_train.std(0,keepdim=True)[0]\n",
    "y_train_s, y_test_s = standardize(y_train, y_mean, y_std), standardize(y_test, y_mean, y_std)"
   ],
   "metadata": {
    "collapsed": false,
    "ExecuteTime": {
     "end_time": "2023-07-27T09:27:47.912054400Z",
     "start_time": "2023-07-27T09:27:47.860122600Z"
    }
   }
  },
  {
   "cell_type": "markdown",
   "source": [
    "## 4. Plot normalized, standardized vs non-normalized"
   ],
   "metadata": {
    "collapsed": false
   }
  },
  {
   "cell_type": "code",
   "execution_count": 31,
   "outputs": [
    {
     "data": {
      "text/plain": "tensor([[18.6000, 20.0000, 22.2000,  6.2160],\n        [23.5000, 25.6000, 27.0000,  6.5610],\n        [25.9000, 28.0000, 29.4000,  7.8204],\n        [19.3000, 21.3000, 22.8000,  6.3840],\n        [15.0000, 16.2000, 17.2000,  4.5924],\n        [20.5000, 22.5000, 24.0000,  6.7920],\n        [15.7000, 17.4000, 18.5000,  4.5880],\n        [23.6000, 25.2000, 27.9000,  7.0866],\n        [59.0000, 63.4000, 68.0000, 10.8120],\n        [37.1000, 40.0000, 42.5000, 11.1350],\n        [13.8000, 15.0000, 16.0000,  3.8240],\n        [33.5000, 37.0000, 42.6000, 18.9570],\n        [42.0000, 45.0000, 48.0000,  6.9600],\n        [40.0000, 42.5000, 45.5000,  6.8250],\n        [20.0000, 22.0000, 23.5000,  5.5225],\n        [31.0000, 33.5000, 38.7000, 14.4738],\n        [52.0000, 56.0000, 59.7000, 10.6863],\n        [19.4000, 21.0000, 23.7000,  6.1146],\n        [22.0000, 24.0000, 25.5000,  7.2930],\n        [26.3000, 29.0000, 33.5000, 12.7300],\n        [23.0000, 25.0000, 28.0000, 11.0880],\n        [40.1000, 43.0000, 45.5000, 12.5125],\n        [20.4000, 22.0000, 24.7000,  5.8045],\n        [32.0000, 34.5000, 36.5000, 10.2565],\n        [34.0000, 36.0000, 38.3000, 10.6091],\n        [34.5000, 37.0000, 39.4000, 10.8350],\n        [23.6000, 26.0000, 28.7000,  8.3804],\n        [22.0000, 24.0000, 27.2000,  7.5344],\n        [22.1000, 23.5000, 26.8000,  7.3968],\n        [13.8000, 15.0000, 16.2000,  2.9322],\n        [29.4000, 32.0000, 37.2000, 14.9544],\n        [16.3000, 17.7000, 19.8000,  7.4052],\n        [30.4000, 33.0000, 38.3000, 14.8604],\n        [19.0000, 20.5000, 22.8000,  6.4752],\n        [56.0000, 60.0000, 64.0000,  9.6000],\n        [25.4000, 27.5000, 28.9000,  7.1672],\n        [20.0000, 22.0000, 23.5000,  6.1100],\n        [31.4000, 34.0000, 39.2000, 15.9936],\n        [16.8000, 18.7000, 19.4000,  5.1992],\n        [31.7000, 34.0000, 37.8000,  5.7078],\n        [37.4000, 41.0000, 45.9000, 18.6354],\n        [20.5000, 22.5000, 25.3000,  7.0334],\n        [31.3000, 34.0000, 39.5000, 15.1285],\n        [21.0000, 23.0000, 24.5000,  5.2185],\n        [20.5000, 22.5000, 24.0000,  5.8560],\n        [32.8000, 36.0000, 41.6000, 16.8896],\n        [24.0000, 26.0000, 29.0000, 11.3680],\n        [16.2000, 18.0000, 19.2000,  5.2224],\n        [35.0000, 38.5000, 44.0000, 18.0840],\n        [23.9000, 26.5000, 31.1000, 12.3778],\n        [36.6000, 39.0000, 41.3000, 12.4313],\n        [30.9000, 33.5000, 38.6000, 15.6330],\n        [11.7000, 12.4000, 13.5000,  2.4300],\n        [27.6000, 30.0000, 35.1000, 14.0049],\n        [32.0000, 35.0000, 40.6000, 16.3618],\n        [31.8000, 35.0000, 40.9000, 16.3600],\n        [23.0000, 25.0000, 26.5000,  6.4395],\n        [19.0000, 21.0000, 22.5000,  5.9175],\n        [33.7000, 36.4000, 39.6000, 11.7612],\n        [19.0000, 20.7000, 23.2000,  9.3960],\n        [11.3000, 11.8000, 13.1000,  2.2139],\n        [26.5000, 29.0000, 34.0000, 12.4440],\n        [30.5000, 32.8000, 34.0000, 10.0300],\n        [12.9000, 14.1000, 16.2000,  4.1472],\n        [25.4000, 27.5000, 28.9000,  7.0516],\n        [ 7.5000,  8.4000,  8.8000,  2.1120],\n        [11.4000, 12.0000, 13.2000,  2.2044],\n        [17.2000, 19.0000, 20.2000,  5.6358],\n        [29.1000, 31.5000, 36.4000, 13.7592],\n        [32.7000, 35.0000, 38.8000,  5.9364],\n        [17.5000, 19.0000, 21.3000,  8.3922],\n        [17.8000, 19.6000, 20.8000,  5.1376],\n        [19.0000, 21.0000, 22.5000,  5.6925],\n        [19.1000, 20.8000, 23.1000,  6.1677],\n        [21.1000, 22.5000, 25.0000,  6.4000],\n        [21.0000, 22.5000, 25.0000,  6.5500],\n        [29.5000, 32.0000, 37.3000, 13.9129],\n        [21.2000, 23.0000, 25.8000, 10.3458],\n        [30.4000, 33.0000, 38.5000, 14.9380],\n        [35.0000, 38.5000, 44.1000, 18.0369],\n        [10.0000, 10.5000, 11.6000,  1.9720],\n        [40.1000, 43.0000, 45.8000,  7.7860],\n        [11.3000, 11.8000, 13.1000,  2.2139],\n        [31.5000, 34.5000, 39.7000, 15.5227],\n        [20.5000, 22.0000, 24.3000,  6.6339],\n        [25.0000, 26.5000, 28.0000,  7.1680],\n        [20.0000, 22.0000, 23.5000,  6.1100],\n        [20.0000, 22.0000, 23.5000,  5.6400],\n        [22.0000, 23.4000, 26.7000,  6.9153],\n        [28.5000, 30.7000, 36.2000, 14.2266],\n        [39.8000, 43.0000, 45.2000, 11.9328],\n        [31.8000, 35.0000, 40.6000, 15.4686],\n        [36.5000, 39.0000, 41.4000, 11.1366],\n        [25.2000, 27.3000, 28.7000,  8.3230],\n        [24.0000, 26.0000, 29.2000,  8.8768],\n        [10.4000, 11.0000, 12.0000,  2.1960],\n        [37.0000, 40.0000, 42.4000, 12.3808],\n        [37.3000, 40.0000, 43.5000, 12.3540],\n        [16.5000, 18.2000, 20.3000,  5.2983],\n        [56.0000, 60.0000, 64.0000,  9.6000],\n        [13.5000, 14.7000, 16.5000,  6.8475],\n        [38.0000, 41.0000, 46.5000, 17.6235],\n        [43.2000, 46.0000, 48.7000,  7.7920],\n        [24.0000, 26.3000, 31.2000, 12.4800],\n        [18.2000, 20.0000, 21.0000,  5.0820],\n        [37.0000, 40.0000, 42.5000, 11.7300],\n        [27.6000, 30.0000, 35.0000, 12.6700],\n        [29.5000, 31.7000, 35.0000,  9.4850],\n        [28.4000, 31.0000, 36.2000, 14.2628],\n        [10.1000, 10.6000, 11.6000,  1.7284],\n        [20.7000, 22.7000, 24.2000,  5.9532],\n        [36.2000, 39.5000, 45.3000, 18.7542],\n        [32.5000, 35.0000, 37.3000, 11.4884],\n        [40.0000, 42.5000, 45.5000,  7.2800],\n        [36.9000, 40.0000, 42.3000, 11.9286],\n        [19.0000, 21.0000, 22.5000,  5.6925],\n        [34.8000, 37.3000, 39.8000,  6.2884],\n        [12.5000, 13.7000, 14.7000,  3.5280],\n        [11.5000, 12.2000, 13.4000,  2.0904],\n        [14.3000, 15.5000, 17.4000,  6.5772],\n        [17.5000, 18.8000, 21.2000,  5.5756],\n        [26.9000, 28.7000, 30.1000,  7.5852],\n        [40.2000, 43.5000, 46.0000, 12.6040],\n        [25.4000, 27.5000, 28.9000,  7.2828],\n        [23.2000, 25.4000, 30.0000, 11.5200],\n        [30.0000, 32.3000, 34.8000,  5.5680],\n        [26.8000, 29.7000, 34.5000, 14.1795]], dtype=torch.float64)"
     },
     "execution_count": 31,
     "metadata": {},
     "output_type": "execute_result"
    }
   ],
   "source": [
    "X_train[:]"
   ],
   "metadata": {
    "collapsed": false,
    "ExecuteTime": {
     "end_time": "2023-07-27T09:44:16.580987400Z",
     "start_time": "2023-07-27T09:44:16.477896Z"
    }
   }
  },
  {
   "cell_type": "code",
   "execution_count": 36,
   "outputs": [
    {
     "data": {
      "text/plain": "<matplotlib.collections.PathCollection at 0x23c609f0b20>"
     },
     "execution_count": 36,
     "metadata": {},
     "output_type": "execute_result"
    },
    {
     "data": {
      "text/plain": "<Figure size 1200x480 with 2 Axes>",
      "image/png": "[encoded data removed]"
     },
     "metadata": {},
     "output_type": "display_data"
    }
   ],
   "source": [
    "from matplotlib import pyplot as plt\n",
    "# Create Subplot with two Figures\n",
    "fig, (ax1, ax2) = plt.subplots(1, 2)\n",
    "fig.set_figwidth(12)\n",
    "fig.suptitle('Normalized Data on the right')\n",
    "\n",
    "# Plot original data\n",
    "ax1.set_ylim(0,100), ax1.set_xlim(0,100) # Set axis to be in range (0,100)\n",
    "ax1.scatter(X_train[:,0], X_train[:,3], s=5) # Plot train data in blue\n",
    "ax1.scatter(X_test[:,0], X_test[:,3], s=5) # Plot test data in orange\n",
    "\n",
    "# Plot normalized data\n",
    "ax2.set_ylim(0,1), ax2.set_xlim(0,1) # Set axis to be in range (0, 1)\n",
    "ax2.scatter(X_train_n[:,0], X_train_n[:,3], s=5) # Plot train data in blue\n",
    "ax2.scatter(X_test_n[:,0], X_test_n[:,3], s=5) # Plot test data in orange"
   ],
   "metadata": {
    "collapsed": false,
    "ExecuteTime": {
     "end_time": "2023-07-27T09:56:50.645681300Z",
     "start_time": "2023-07-27T09:56:50.288356800Z"
    }
   }
  },
  {
   "cell_type": "code",
   "execution_count": 37,
   "outputs": [
    {
     "data": {
      "text/plain": "<matplotlib.collections.PathCollection at 0x23c60aae440>"
     },
     "execution_count": 37,
     "metadata": {},
     "output_type": "execute_result"
    },
    {
     "data": {
      "text/plain": "<Figure size 1200x480 with 2 Axes>",
      "image/png": "[encoded data removed]"
     },
     "metadata": {},
     "output_type": "display_data"
    }
   ],
   "source": [
    "# Create Subplot with two Figures\n",
    "fig, (ax1, ax2) = plt.subplots(1, 2)\n",
    "fig.set_figwidth(12)\n",
    "fig.suptitle('Standardized Data on the right')\n",
    "\n",
    "# Plot original data\n",
    "ax1.set_ylim(0,100), ax1.set_xlim(0,100) # Set axis to be in range (0,100)\n",
    "ax1.scatter(X_train[:,0], X_train[:,3], s=5) # Plot train data in blue\n",
    "ax1.scatter(X_test[:,0], X_test[:,3], s=5) # Plot test data in orange\n",
    "\n",
    "# Plot standardized data\n",
    "ax2.set_ylim(-3,3), ax2.set_xlim(-3,3) # Set axis to be in range (-3, 3)\n",
    "ax2.scatter(X_train_s[:,0], X_train_s[:,3], s=5) # Plot train data in blue\n",
    "ax2.scatter(X_test_s[:,0], X_test_s[:,3], s=5) # Plot test data in orange"
   ],
   "metadata": {
    "collapsed": false,
    "ExecuteTime": {
     "end_time": "2023-07-27T09:58:37.914805Z",
     "start_time": "2023-07-27T09:58:37.541711100Z"
    }
   }
  },
  {
   "cell_type": "markdown",
   "source": [
    "## 5. Create Dummy Variables for Species"
   ],
   "metadata": {
    "collapsed": false
   }
  },
  {
   "cell_type": "code",
   "execution_count": 53,
   "outputs": [
    {
     "name": "stdout",
     "output_type": "stream",
     "text": [
      "[[23.2 25.4 30.0 ... False False False]\n",
      " [24.0 26.3 31.2 ... False False False]\n",
      " [23.9 26.5 31.1 ... False False False]\n",
      " ...\n",
      " [12.1 13.0 13.8 ... False True False]\n",
      " [13.2 14.3 15.2 ... False True False]\n",
      " [13.8 15.0 16.2 ... False True False]]\n"
     ]
    }
   ],
   "source": [
    "fish_data = pd.read_csv('fish.csv')\n",
    "# Create Dummy Variables\n",
    "species = pd.get_dummies(fish_data[\"Species\"])\n",
    "# add these dummies to fish_data\n",
    "fish_data = pd.concat([fish_data, species], axis=1)\n",
    "# drop the original species column\n",
    "fish_data = fish_data.drop(columns=[\"Species\"])\n",
    "print(fish_data.to_numpy())\n"
   ],
   "metadata": {
    "collapsed": false,
    "ExecuteTime": {
     "end_time": "2023-07-27T10:06:46.416736Z",
     "start_time": "2023-07-27T10:06:46.373696400Z"
    }
   }
  },
  {
   "cell_type": "code",
   "execution_count": null,
   "outputs": [],
   "source": [],
   "metadata": {
    "collapsed": false,
    "ExecuteTime": {
     "start_time": "2023-07-27T09:27:51.128636100Z"
    }
   }
  }
 ],
 "metadata": {
  "kernelspec": {
   "display_name": "Python 3 (ipykernel)",
   "language": "python",
   "name": "python3"
  },
  "language_info": {
   "codemirror_mode": {
    "name": "ipython",
    "version": 3
   },
   "file_extension": ".py",
   "mimetype": "text/x-python",
   "name": "python",
   "nbconvert_exporter": "python",
   "pygments_lexer": "ipython3",
   "version": "3.11.3"
  }
 },
 "nbformat": 4,
 "nbformat_minor": 2
}
