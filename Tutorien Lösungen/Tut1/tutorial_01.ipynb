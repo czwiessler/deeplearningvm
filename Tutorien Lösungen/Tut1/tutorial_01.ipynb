{
 "cells": [
  {
   "cell_type": "code",
   "execution_count": 1,
   "metadata": {
    "ExecuteTime": {
     "end_time": "2023-07-23T11:52:49.884661Z",
     "start_time": "2023-07-23T11:52:49.871360400Z"
    }
   },
   "outputs": [],
   "source": [
    "#!pip install torch numpy pandas matplotlib"
   ]
  },
  {
   "cell_type": "code",
   "execution_count": 2,
   "metadata": {
    "ExecuteTime": {
     "end_time": "2023-07-23T11:52:59.906036700Z",
     "start_time": "2023-07-23T11:52:49.888680700Z"
    }
   },
   "outputs": [],
   "source": [
    "import torch\n",
    "import numpy as np"
   ]
  },
  {
   "cell_type": "markdown",
   "metadata": {},
   "source": [
    "### Create a Numpy Array and compute 2 * x + y"
   ]
  },
  {
   "cell_type": "code",
   "execution_count": 3,
   "metadata": {
    "ExecuteTime": {
     "end_time": "2023-07-23T11:52:59.920999100Z",
     "start_time": "2023-07-23T11:52:59.906036700Z"
    }
   },
   "outputs": [
    {
     "name": "stdout",
     "output_type": "stream",
     "text": [
      "[[ 9 12 15]\n",
      " [18 21 24]]\n"
     ]
    }
   ],
   "source": [
    "x = np.array([[1,2,3], [4,5,6]])\n",
    "y = np.array([[7,8,9], [10,11,12]])\n",
    "f = 2 * x + y\n",
    "print(f)"
   ]
  },
  {
   "cell_type": "markdown",
   "metadata": {},
   "source": [
    "### Create a Tensor and compute 2 * x + y"
   ]
  },
  {
   "cell_type": "code",
   "execution_count": 4,
   "metadata": {
    "ExecuteTime": {
     "end_time": "2023-07-23T11:53:00.009431500Z",
     "start_time": "2023-07-23T11:52:59.923978100Z"
    }
   },
   "outputs": [
    {
     "name": "stdout",
     "output_type": "stream",
     "text": [
      "tensor([[ 9, 12, 15],\n",
      "        [18, 21, 24]])\n"
     ]
    }
   ],
   "source": [
    "x = torch.tensor([[1,2,3], [4,5,6]])\n",
    "y = torch.tensor([[7,8,9], [10,11,12]])\n",
    "f = 2 * x + y\n",
    "print(f)"
   ]
  },
  {
   "cell_type": "markdown",
   "metadata": {},
   "source": [
    "### Default Value Initialization"
   ]
  },
  {
   "cell_type": "code",
   "execution_count": 5,
   "metadata": {
    "ExecuteTime": {
     "end_time": "2023-07-23T11:53:00.030338300Z",
     "start_time": "2023-07-23T11:52:59.936065600Z"
    }
   },
   "outputs": [
    {
     "name": "stdout",
     "output_type": "stream",
     "text": [
      "tensor([[0., 0., 0.],\n",
      "        [0., 0., 0.]])\n",
      "tensor([[1., 1., 1.],\n",
      "        [1., 1., 1.]])\n",
      "tensor([[0.4622, 0.3364, 0.5483],\n",
      "        [0.6094, 0.1233, 0.8801]])\n"
     ]
    }
   ],
   "source": [
    "shape = [2,3]\n",
    "xzeros = torch.zeros(shape)\n",
    "xones = torch.ones(shape)\n",
    "xrnd = torch.rand(shape)\n",
    "print(xzeros)\n",
    "print(xones)\n",
    "print(xrnd)"
   ]
  },
  {
   "cell_type": "markdown",
   "metadata": {},
   "source": [
    "### Bad way to set seed (global seed)"
   ]
  },
  {
   "cell_type": "code",
   "execution_count": 6,
   "metadata": {
    "ExecuteTime": {
     "end_time": "2023-07-23T11:53:00.032318900Z",
     "start_time": "2023-07-23T11:52:59.952979300Z"
    }
   },
   "outputs": [
    {
     "name": "stdout",
     "output_type": "stream",
     "text": [
      "tensor([[0.8823, 0.9150, 0.3829],\n",
      "        [0.9593, 0.3904, 0.6009]])\n"
     ]
    }
   ],
   "source": [
    "torch.manual_seed(42)\n",
    "print(torch.rand([2,3]))"
   ]
  },
  {
   "cell_type": "markdown",
   "metadata": {},
   "source": [
    "### Good way to set seed (using generator)"
   ]
  },
  {
   "cell_type": "code",
   "execution_count": 7,
   "metadata": {
    "ExecuteTime": {
     "end_time": "2023-07-23T11:53:00.033314700Z",
     "start_time": "2023-07-23T11:52:59.983388400Z"
    }
   },
   "outputs": [
    {
     "name": "stdout",
     "output_type": "stream",
     "text": [
      "tensor([[0.8823, 0.9150, 0.3829],\n",
      "        [0.9593, 0.3904, 0.6009]])\n"
     ]
    }
   ],
   "source": [
    "generator = torch.Generator().manual_seed(42)\n",
    "print(torch.rand([2,3], generator=generator))"
   ]
  },
  {
   "cell_type": "markdown",
   "metadata": {},
   "source": [
    "### Converting between tensors and NumPy arrays"
   ]
  },
  {
   "cell_type": "code",
   "execution_count": 8,
   "metadata": {
    "ExecuteTime": {
     "end_time": "2023-07-23T11:53:00.046460500Z",
     "start_time": "2023-07-23T11:53:00.000424400Z"
    }
   },
   "outputs": [
    {
     "name": "stdout",
     "output_type": "stream",
     "text": [
      "tensor([[ 8, 10, 12],\n",
      "        [14, 16, 18]])\n"
     ]
    },
    {
     "data": {
      "text/plain": "'torch.LongTensor'"
     },
     "execution_count": 8,
     "metadata": {},
     "output_type": "execute_result"
    }
   ],
   "source": [
    "xnp = np.array([[1,2,3],[4,5,6]])\n",
    "f2 = y + xnp\n",
    "print(f2)\n",
    "f2.type()"
   ]
  },
  {
   "cell_type": "code",
   "execution_count": 9,
   "metadata": {
    "ExecuteTime": {
     "end_time": "2023-07-23T11:53:00.047449400Z",
     "start_time": "2023-07-23T11:53:00.014493500Z"
    }
   },
   "outputs": [
    {
     "name": "stdout",
     "output_type": "stream",
     "text": [
      "torch.LongTensor\n"
     ]
    },
    {
     "data": {
      "text/plain": "numpy.ndarray"
     },
     "execution_count": 9,
     "metadata": {},
     "output_type": "execute_result"
    }
   ],
   "source": [
    "print(f.type()) # call the tensors type method\n",
    "fnp = f.numpy() # create an array from the tensor\n",
    "type(fnp) # uses the python inbuilt type()"
   ]
  },
  {
   "cell_type": "code",
   "execution_count": 10,
   "metadata": {
    "ExecuteTime": {
     "end_time": "2023-07-23T11:53:00.226448Z",
     "start_time": "2023-07-23T11:53:00.032318900Z"
    }
   },
   "outputs": [
    {
     "name": "stdout",
     "output_type": "stream",
     "text": [
      "tensor([[1, 2, 3],\n",
      "        [4, 5, 6]], dtype=torch.int32)\n",
      "torch.IntTensor\n"
     ]
    }
   ],
   "source": [
    "xtensor = torch.tensor(xnp) # Don't use torch.from_numpy\n",
    "print(xtensor)\n",
    "print(xtensor.type())"
   ]
  },
  {
   "cell_type": "code",
   "execution_count": 11,
   "metadata": {
    "ExecuteTime": {
     "end_time": "2023-07-23T11:53:00.261407700Z",
     "start_time": "2023-07-23T11:53:00.044485Z"
    }
   },
   "outputs": [
    {
     "name": "stdout",
     "output_type": "stream",
     "text": [
      "False\n",
      "tensor([1., 0., 1.], dtype=torch.float64)\n"
     ]
    }
   ],
   "source": [
    "a = np.ones(3)                  \n",
    "t = torch.tensor(a)      # create a tensor from an array\n",
    "b = t.numpy()                # Create an array from the tensor\n",
    "b[1] = 0                     # change a value in the array\n",
    "print(a[1] == b[1])          # this value changes in the original array\n",
    "print(t)                     # and also in the tensor - they share the same memory"
   ]
  },
  {
   "cell_type": "markdown",
   "metadata": {},
   "source": [
    "### Data Types with Numpy and Pytorch"
   ]
  },
  {
   "cell_type": "code",
   "execution_count": 12,
   "metadata": {
    "ExecuteTime": {
     "end_time": "2023-07-23T11:53:00.262398500Z",
     "start_time": "2023-07-23T11:53:00.060327600Z"
    }
   },
   "outputs": [
    {
     "data": {
      "text/plain": "'torch.CharTensor'"
     },
     "execution_count": 12,
     "metadata": {},
     "output_type": "execute_result"
    }
   ],
   "source": [
    "int8np = np.ones((2,3), dtype=np.int8)\n",
    "bad = torch.tensor(int8np)\n",
    "bad.type()"
   ]
  },
  {
   "cell_type": "code",
   "execution_count": 13,
   "metadata": {
    "ExecuteTime": {
     "end_time": "2023-07-23T11:53:00.263388800Z",
     "start_time": "2023-07-23T11:53:00.075457900Z"
    }
   },
   "outputs": [
    {
     "data": {
      "text/plain": "'torch.IntTensor'"
     },
     "execution_count": 13,
     "metadata": {},
     "output_type": "execute_result"
    }
   ],
   "source": [
    "not_so_good = torch.tensor(int8np.astype(np.int32))\n",
    "not_so_good.type()"
   ]
  },
  {
   "cell_type": "code",
   "execution_count": 14,
   "metadata": {
    "ExecuteTime": {
     "end_time": "2023-07-23T11:53:00.263388800Z",
     "start_time": "2023-07-23T11:53:00.093290600Z"
    }
   },
   "outputs": [
    {
     "data": {
      "text/plain": "'torch.IntTensor'"
     },
     "execution_count": 14,
     "metadata": {},
     "output_type": "execute_result"
    }
   ],
   "source": [
    "good = torch.tensor(int8np, dtype=torch.int)\n",
    "good.type()"
   ]
  },
  {
   "cell_type": "code",
   "execution_count": 15,
   "metadata": {
    "ExecuteTime": {
     "end_time": "2023-07-23T11:53:00.264474Z",
     "start_time": "2023-07-23T11:53:00.107030300Z"
    }
   },
   "outputs": [
    {
     "data": {
      "text/plain": "'torch.IntTensor'"
     },
     "execution_count": 15,
     "metadata": {},
     "output_type": "execute_result"
    }
   ],
   "source": [
    "xint = torch.ones((2,3), dtype=torch.int)\n",
    "xint.type()"
   ]
  },
  {
   "cell_type": "markdown",
   "metadata": {},
   "source": [
    "### Slicing and indexing and reshaping"
   ]
  },
  {
   "cell_type": "code",
   "execution_count": 16,
   "metadata": {
    "ExecuteTime": {
     "end_time": "2023-07-23T11:53:00.264474Z",
     "start_time": "2023-07-23T11:53:00.124582200Z"
    }
   },
   "outputs": [
    {
     "name": "stdout",
     "output_type": "stream",
     "text": [
      "tensor([1, 2, 3])\n",
      "tensor([4, 5])\n"
     ]
    }
   ],
   "source": [
    "print(x[0])\n",
    "print(x[1][0:2])"
   ]
  },
  {
   "cell_type": "code",
   "execution_count": 17,
   "metadata": {
    "ExecuteTime": {
     "end_time": "2023-07-23T11:53:00.266449400Z",
     "start_time": "2023-07-23T11:53:00.138428800Z"
    }
   },
   "outputs": [
    {
     "name": "stdout",
     "output_type": "stream",
     "text": [
      "tensor([[1, 2, 3],\n",
      "        [4, 5, 6]])\n",
      "torch.Size([2, 3])\n",
      "tensor([1, 2, 3, 4, 5, 6])\n",
      "tensor([[1, 2],\n",
      "        [3, 4],\n",
      "        [5, 6]])\n",
      "tensor([[1],\n",
      "        [2],\n",
      "        [3],\n",
      "        [4],\n",
      "        [5],\n",
      "        [6]])\n"
     ]
    }
   ],
   "source": [
    "print(x)\n",
    "print(x.size())\n",
    "print(x.view(-1))\n",
    "print(x.view(3,2))\n",
    "print(x.view(6,1))"
   ]
  },
  {
   "cell_type": "code",
   "execution_count": 18,
   "metadata": {
    "ExecuteTime": {
     "end_time": "2023-07-23T11:53:00.267441Z",
     "start_time": "2023-07-23T11:53:00.153304800Z"
    }
   },
   "outputs": [
    {
     "name": "stdout",
     "output_type": "stream",
     "text": [
      "tensor([[1, 2],\n",
      "        [3, 4],\n",
      "        [5, 6]])\n"
     ]
    }
   ],
   "source": [
    "print(x.view(3,-1))"
   ]
  },
  {
   "cell_type": "code",
   "execution_count": 19,
   "metadata": {
    "ExecuteTime": {
     "end_time": "2023-07-23T11:53:00.275371800Z",
     "start_time": "2023-07-23T11:53:00.170414700Z"
    }
   },
   "outputs": [
    {
     "name": "stdout",
     "output_type": "stream",
     "text": [
      "torch.Size([3, 2])\n"
     ]
    },
    {
     "data": {
      "text/plain": "torch.Size([2, 3])"
     },
     "execution_count": 19,
     "metadata": {},
     "output_type": "execute_result"
    }
   ],
   "source": [
    "print(x.transpose(0,1).size())\n",
    "x.size()"
   ]
  },
  {
   "cell_type": "code",
   "execution_count": 20,
   "metadata": {
    "ExecuteTime": {
     "end_time": "2023-07-23T11:53:00.276361300Z",
     "start_time": "2023-07-23T11:53:00.186354700Z"
    }
   },
   "outputs": [
    {
     "name": "stdout",
     "output_type": "stream",
     "text": [
      "torch.Size([4, 3, 2, 1])\n",
      "torch.Size([4, 3, 2, 1])\n"
     ]
    }
   ],
   "source": [
    "a = torch.ones(1,2,3,4)\n",
    "print(a.transpose(0,3).transpose(1,2).size())    #swaps axis in two steps\n",
    "print(a.permute(3,2,1,0).size())                 #swaps all axis at once"
   ]
  },
  {
   "cell_type": "code",
   "execution_count": 21,
   "metadata": {
    "ExecuteTime": {
     "end_time": "2023-07-23T11:53:00.276361300Z",
     "start_time": "2023-07-23T11:53:00.202395500Z"
    }
   },
   "outputs": [
    {
     "name": "stdout",
     "output_type": "stream",
     "text": [
      "tensor([[1, 2, 3],\n",
      "        [4, 5, 6]])\n",
      "tensor([[1, 4],\n",
      "        [2, 5],\n",
      "        [3, 6]])\n"
     ]
    }
   ],
   "source": [
    "print(x)\n",
    "x.transpose_(1,0)\n",
    "print(x)"
   ]
  },
  {
   "cell_type": "markdown",
   "metadata": {},
   "source": [
    "## 1. Load fish.csv and convert it to a tensor but ignore first column (Species). Split column \"Width\" as target variable and all other as input variables"
   ]
  },
  {
   "cell_type": "code",
   "execution_count": 22,
   "metadata": {
    "ExecuteTime": {
     "end_time": "2023-07-23T11:53:04.313990Z",
     "start_time": "2023-07-23T11:53:00.215377900Z"
    }
   },
   "outputs": [
    {
     "data": {
      "text/plain": "Ellipsis"
     },
     "execution_count": 22,
     "metadata": {},
     "output_type": "execute_result"
    }
   ],
   "source": [
    "import pandas as pd\n",
    "fish_data = ...\n",
    "fish_data"
   ]
  },
  {
   "cell_type": "code",
   "execution_count": 23,
   "metadata": {
    "ExecuteTime": {
     "end_time": "2023-07-23T11:53:05.765502900Z",
     "start_time": "2023-07-23T11:53:04.315087Z"
    }
   },
   "outputs": [
    {
     "ename": "TypeError",
     "evalue": "'ellipsis' object is not subscriptable",
     "output_type": "error",
     "traceback": [
      "\u001B[1;31m---------------------------------------------------------------------------\u001B[0m",
      "\u001B[1;31mTypeError\u001B[0m                                 Traceback (most recent call last)",
      "Cell \u001B[1;32mIn[23], line 1\u001B[0m\n\u001B[1;32m----> 1\u001B[0m X \u001B[38;5;241m=\u001B[39m \u001B[43mfish_data\u001B[49m\u001B[43m[\u001B[49m\u001B[38;5;241;43m.\u001B[39;49m\u001B[38;5;241;43m.\u001B[39;49m\u001B[38;5;241;43m.\u001B[39;49m\u001B[43m]\u001B[49m\u001B[38;5;241m.\u001B[39mto_numpy() \u001B[38;5;66;03m# Input variables (Numpy)\u001B[39;00m\n\u001B[0;32m      2\u001B[0m y \u001B[38;5;241m=\u001B[39m \u001B[38;5;241m.\u001B[39m\u001B[38;5;241m.\u001B[39m\u001B[38;5;241m.\u001B[39m \u001B[38;5;66;03m# Target Variable (Numpy)\u001B[39;00m\n\u001B[0;32m      3\u001B[0m X,y \u001B[38;5;241m=\u001B[39m torch\u001B[38;5;241m.\u001B[39mtensor(X), torch\u001B[38;5;241m.\u001B[39mtensor(y)\n",
      "\u001B[1;31mTypeError\u001B[0m: 'ellipsis' object is not subscriptable"
     ]
    }
   ],
   "source": [
    "X = fish_data[...].to_numpy() # Input variables (Numpy)\n",
    "y = ... # Target Variable (Numpy)\n",
    "X,y = torch.tensor(X), torch.tensor(y)"
   ]
  },
  {
   "cell_type": "markdown",
   "metadata": {},
   "source": [
    "## 2. Split fish_data into training (n=127) and test set (n=32), randomly."
   ]
  },
  {
   "cell_type": "code",
   "execution_count": null,
   "metadata": {},
   "outputs": [],
   "source": [
    "generator = torch.Generator().manual_seed(42)\n",
    "idx = ...\n",
    "X_train, X_test = ...\n",
    "y_train, y_test = ..."
   ]
  },
  {
   "cell_type": "markdown",
   "metadata": {},
   "source": [
    "## 3.1. Normalize Dataset: X = (X - X.min) / (X.max - X.min)"
   ]
  },
  {
   "cell_type": "code",
   "execution_count": null,
   "metadata": {},
   "outputs": [],
   "source": [
    "# Lambda Function\n",
    "normalize = lambda z, z_min, z_max: ...\n",
    "\n",
    "# Normalize X\n",
    "x_min, x_max = ...\n",
    "X_train_n, X_test_n = ...\n",
    "# Normalize y\n",
    "..."
   ]
  },
  {
   "cell_type": "markdown",
   "metadata": {},
   "source": [
    "## 3.2. Standardize Dataset: X = (X - X.mean) / X.std"
   ]
  },
  {
   "cell_type": "code",
   "execution_count": null,
   "metadata": {},
   "outputs": [],
   "source": [
    "# Lambda Function\n",
    "standardize = lambda z, z_mean, z_std: ...\n",
    "\n",
    "# Standardize X\n",
    "x_mean, x_std = ...\n",
    "X_train_s, X_test_s = ...\n",
    "# Standardize y\n",
    "..."
   ]
  },
  {
   "cell_type": "markdown",
   "metadata": {},
   "source": [
    "## 4. Plot normalized, standardized vs non-normalized"
   ]
  },
  {
   "cell_type": "code",
   "execution_count": null,
   "metadata": {},
   "outputs": [],
   "source": [
    "from matplotlib import pyplot as plt\n",
    "# Create Subplot with two Figures\n",
    "fig, (ax1, ax2) = plt.subplots(1, 2)\n",
    "fig.set_figwidth(12)\n",
    "fig.suptitle('Normalized Data on the right')\n",
    "\n",
    "# Plot original data\n",
    "ax1.set_ylim(0,100), ax1.set_xlim(0,100) # Set axis to be in range (0,100)\n",
    "ax1.scatter(..., s=5) # Plot train data in blue\n",
    "ax1.scatter(..., s=5) # Plot test data in orange\n",
    "\n",
    "# Plot normalized data\n",
    "ax2.set_ylim(0,1), ax2.set_xlim(0,1) # Set axis to be in range (0, 1)\n",
    "..."
   ]
  },
  {
   "cell_type": "code",
   "execution_count": null,
   "metadata": {},
   "outputs": [],
   "source": [
    "# Create Subplot with two Figures\n",
    "fig, (ax1, ax2) = plt.subplots(1, 2)\n",
    "fig.set_figwidth(12)\n",
    "fig.suptitle('Standardized Data on the right')\n",
    "\n",
    "# Plot original data\n",
    "ax1.set_ylim(0,100), ax1.set_xlim(0,100) # Set axis to be in range (0,100)\n",
    "ax1.scatter(..., s=5) # Plot train data in blue\n",
    "ax1.scatter(..., s=5) # Plot test data in orange\n",
    "\n",
    "# Plot standardized data\n",
    "ax2.set_ylim(-3,3), ax2.set_xlim(-3,3) # Set axis to be in range (-3, 3)\n",
    "..."
   ]
  },
  {
   "cell_type": "markdown",
   "metadata": {},
   "source": [
    "## 5. Create Dummy Variables for Species"
   ]
  },
  {
   "cell_type": "code",
   "execution_count": null,
   "metadata": {},
   "outputs": [],
   "source": [
    "# Create Dummy Variables\n",
    "..."
   ]
  },
  {
   "cell_type": "code",
   "execution_count": null,
   "metadata": {},
   "outputs": [],
   "source": []
  }
 ],
 "metadata": {
  "kernelspec": {
   "display_name": "Python 3 (ipykernel)",
   "language": "python",
   "name": "python3"
  },
  "language_info": {
   "codemirror_mode": {
    "name": "ipython",
    "version": 3
   },
   "file_extension": ".py",
   "mimetype": "text/x-python",
   "name": "python",
   "nbconvert_exporter": "python",
   "pygments_lexer": "ipython3",
   "version": "3.11.3"
  }
 },
 "nbformat": 4,
 "nbformat_minor": 2
}
