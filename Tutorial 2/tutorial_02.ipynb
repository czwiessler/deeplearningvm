{
 "cells": [
  {
   "cell_type": "markdown",
   "id": "4d46373b",
   "metadata": {},
   "source": [
    "### 1. Load the Fish Data, split into train and test set, and standardize data."
   ]
  },
  {
   "cell_type": "code",
   "execution_count": null,
   "id": "4671bbcc",
   "metadata": {},
   "outputs": [],
   "source": [
    "import pandas as pd\n",
    "fish_data = pd.read_csv('fish2.csv')\n",
    "fish_data"
   ]
  },
  {
   "cell_type": "code",
   "execution_count": null,
   "id": "26e4c074",
   "metadata": {},
   "outputs": [],
   "source": [
    "## Create Dummy Variables and convert to torch\n",
    "import torch\n",
    "X = ...\n",
    "X = ...\n",
    "y = ..."
   ]
  },
  {
   "cell_type": "code",
   "execution_count": null,
   "id": "8a909d68",
   "metadata": {},
   "outputs": [],
   "source": [
    "## Split into train and test set\n",
    "generator = torch.Generator().manual_seed(42)\n",
    "idx = torch.randperm(X.shape[0], generator=generator)\n",
    "X_train, X_test = X[idx[:127],:], X[idx[127:],:]\n",
    "y_train, y_test = y[idx[:127],:], y[idx[127:],:]"
   ]
  },
  {
   "cell_type": "code",
   "execution_count": null,
   "id": "7b4bec80",
   "metadata": {},
   "outputs": [],
   "source": [
    "## Standardize Data\n",
    "# Lambda Function\n",
    "standardize = lambda z, z_mean, z_std: (z - z_mean) / (z_std + 1e-5) \n",
    "\n",
    "# Standardize X\n",
    "x_mean, x_std =...\n",
    "...\n",
    "# Standardize y\n",
    "y_mean, y_std = ...\n",
    "..."
   ]
  },
  {
   "cell_type": "markdown",
   "id": "37f35a5d",
   "metadata": {},
   "source": [
    "### 2 Create k Nearest Neighbor Regressor class"
   ]
  },
  {
   "cell_type": "code",
   "execution_count": null,
   "id": "360fc3ab",
   "metadata": {},
   "outputs": [],
   "source": [
    "class kNNRegressor:\n",
    "    # k: Number of k Nearest Neighbors\n",
    "    # p: L_p distance function\n",
    "    # Note: output label is simple average of k Nearest Neighbors\n",
    "    def __init__(self, k, p=2.0):\n",
    "        self.k = k\n",
    "        self.p = p\n",
    "        self.train_x = None\n",
    "        self.train_y = None\n",
    "    \n",
    "    def fit(self, X, y):\n",
    "        \"\"\"\n",
    "        Parameters\n",
    "        ----------\n",
    "        X : Array of shape [n_samples, n_features]\n",
    "        y : Array of shape [n_samples, 1]\n",
    "        \"\"\"  \n",
    "        ...\n",
    "        return self\n",
    "        \n",
    "    def predict(self, X, mean=None, std=None):\n",
    "        \"\"\"\n",
    "        Parameters\n",
    "        ----------\n",
    "        X : Array of shape [n_samples, n_features]\n",
    "        \"\"\"\n",
    "        # Calculate distance matrix\n",
    "        dist = ...\n",
    "        dist = dist.pow(self.p).mean(2).pow(1./self.p)\n",
    "        \n",
    "        # Get k nearest neighbots\n",
    "        _, idx_arg = ...\n",
    "        \n",
    "        # Collect labels\n",
    "        train_y = ... # First repeat train labels to match idx_arg\n",
    "        predictions = ... # Next, gather train labels\n",
    "        predictions = ... # Finally, calculate mean\n",
    "        \n",
    "        # Recompute unstandardized data\n",
    "        if mean is not None and std is not None:\n",
    "            predictions = ...\n",
    "        return predictions"
   ]
  },
  {
   "cell_type": "code",
   "execution_count": null,
   "id": "0d5e7226",
   "metadata": {},
   "outputs": [],
   "source": [
    "k, p = 5, 2.\n",
    "knn_model = kNNRegressor(k, p=p).fit(X_train, y_train)\n",
    "y_pred = knn_model.predict(X_test, y_mean, y_std)\n",
    "mse = ...\n",
    "print(f'The MSE of the {k}-NN model with L_{p}-Distance is: {mse:10.4f}')"
   ]
  },
  {
   "cell_type": "markdown",
   "id": "0964685f",
   "metadata": {},
   "source": [
    "### 3. Create Linear Regressor class"
   ]
  },
  {
   "cell_type": "code",
   "execution_count": null,
   "id": "ce1c3a84",
   "metadata": {},
   "outputs": [],
   "source": [
    "class LinearRegression:\n",
    "    def __init__(self):\n",
    "        self.weight = None\n",
    "            \n",
    "    def fit(self, X, y):\n",
    "        \"\"\"\n",
    "        Parameters\n",
    "        ----------\n",
    "        X : Array of shape [n_samples, n_features]\n",
    "        y : Array of shape [n_samples, 1]\n",
    "        \"\"\"        \n",
    "        \n",
    "        # prepend a column of ones\n",
    "        ones = ...\n",
    "        X = ...       \n",
    "\n",
    "        # compute weights\n",
    "        XtX_pinv = ...\n",
    "        Xty = ...\n",
    "        \n",
    "        # dot: matrix multiplication\n",
    "        self.weight = ...\n",
    "        return self\n",
    "                \n",
    "    def predict(self, X, mean=None, std=None):\n",
    "        \"\"\"\n",
    "        Parameters\n",
    "        ----------\n",
    "        X : Array of shape [n_samples, n_features]\n",
    "        \"\"\"                     \n",
    "        # prepend a column of ones\n",
    "        ones = ...\n",
    "        X = ...\n",
    "\n",
    "        # compute predictions\n",
    "        predictions = ...\n",
    "        \n",
    "        # Recompute unstandardized data\n",
    "        if mean is not None and std is not None:\n",
    "            predictions = ...\n",
    "        return predictions"
   ]
  },
  {
   "cell_type": "code",
   "execution_count": null,
   "id": "83d20b25",
   "metadata": {},
   "outputs": [],
   "source": [
    "lr_model = LinearRegression().fit(X_train, y_train)\n",
    "y_pred = lr_model.predict(X_test, y_mean, y_std)\n",
    "mse = ...\n",
    "print(f'The MSE of the linear regression model is: {mse:10.4f}')"
   ]
  },
  {
   "cell_type": "markdown",
   "id": "447fd24d",
   "metadata": {},
   "source": [
    "### 4. Create a Linear Regressor class, but this time use PyTorch autograd function to calculate the gradient."
   ]
  },
  {
   "cell_type": "code",
   "execution_count": null,
   "id": "d40a7373",
   "metadata": {},
   "outputs": [],
   "source": [
    "import torch.nn as nn\n",
    "\n",
    "class LinearRegressionGradientDescent:\n",
    "    def __init__(self, input_features, lr=0.1, epochs=1000):\n",
    "        self.weight = nn.Parameter(torch.zeros(input_features + 1, 1))\n",
    "        self.lr, self.epochs = lr, epochs\n",
    "        \n",
    "    def fit(self, X, y):\n",
    "        \"\"\"\n",
    "        Parameters\n",
    "        ----------\n",
    "        X : Array of shape [n_samples, n_features]\n",
    "        y : Array of shape [n_samples, 1]\n",
    "        \"\"\"        \n",
    "        for _ in range(self.epochs):\n",
    "            y_pred = ...\n",
    "            loss = ...\n",
    "            loss.backward()\n",
    "            with torch.no_grad():\n",
    "                self.weight -= ...\n",
    "            self.weight.grad = None\n",
    "        return self\n",
    "    \n",
    "    def forward(self, X):\n",
    "        \"\"\"\n",
    "        Parameters\n",
    "        ----------\n",
    "        X : Array of shape [n_samples, n_features]\n",
    "        \"\"\"                     \n",
    "        # prepend a column of ones\n",
    "        ones = ...\n",
    "        X = ...\n",
    "\n",
    "        # compute predictions\n",
    "        predictions = ...\n",
    "\n",
    "        return predictions\n",
    "    \n",
    "    def predict(self, X, mean=None, std=None):\n",
    "        # Execute forward pass\n",
    "        predictions = ...\n",
    "        \n",
    "        # Recompute unstandardized data\n",
    "        if mean is not None and std is not None:\n",
    "            predictions = ...\n",
    "            \n",
    "        return predictions"
   ]
  },
  {
   "cell_type": "code",
   "execution_count": null,
   "id": "c4be0098",
   "metadata": {},
   "outputs": [],
   "source": [
    "lrd_model = LinearRegressionGradientDescent(12).fit(X_train, y_train)\n",
    "y_pred = lrd_model.predict(X_test, y_mean, y_std)\n",
    "mse = ...\n",
    "print(f'The MSE of the gradient descent linear regression model is: {mse:10.4f}')"
   ]
  },
  {
   "cell_type": "code",
   "execution_count": null,
   "id": "7b513974",
   "metadata": {},
   "outputs": [],
   "source": []
  }
 ],
 "metadata": {
  "kernelspec": {
   "display_name": "Python 3 (ipykernel)",
   "language": "python",
   "name": "python3"
  },
  "language_info": {
   "codemirror_mode": {
    "name": "ipython",
    "version": 3
   },
   "file_extension": ".py",
   "mimetype": "text/x-python",
   "name": "python",
   "nbconvert_exporter": "python",
   "pygments_lexer": "ipython3",
   "version": "3.11.3"
  }
 },
 "nbformat": 4,
 "nbformat_minor": 5
}
