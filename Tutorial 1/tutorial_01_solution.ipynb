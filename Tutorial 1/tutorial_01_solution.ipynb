{
 "cells": [
  {
   "cell_type": "code",
   "execution_count": 2,
   "metadata": {},
   "outputs": [],
   "source": [
    "#!pip install torch numpy pandas matplotlib"
   ]
  },
  {
   "cell_type": "code",
   "execution_count": 3,
   "metadata": {},
   "outputs": [],
   "source": [
    "import torch\n",
    "import numpy as np"
   ]
  },
  {
   "cell_type": "markdown",
   "metadata": {},
   "source": [
    "### Create a Numpy Array and compute 2 * x + y"
   ]
  },
  {
   "cell_type": "code",
   "execution_count": 4,
   "metadata": {},
   "outputs": [
    {
     "name": "stdout",
     "output_type": "stream",
     "text": [
      "[[ 9 12 15]\n",
      " [18 21 24]]\n"
     ]
    }
   ],
   "source": [
    "x = np.array([[1,2,3], [4,5,6]])\n",
    "y = np.array([[7,8,9], [10,11,12]])\n",
    "f = 2 * x + y\n",
    "print(f)"
   ]
  },
  {
   "cell_type": "markdown",
   "metadata": {},
   "source": [
    "### Create a Tensor and compute 2 * x + y"
   ]
  },
  {
   "cell_type": "code",
   "execution_count": 5,
   "metadata": {},
   "outputs": [
    {
     "name": "stdout",
     "output_type": "stream",
     "text": [
      "tensor([[ 9, 12, 15],\n",
      "        [18, 21, 24]])\n"
     ]
    }
   ],
   "source": [
    "x = torch.tensor([[1,2,3], [4,5,6]])\n",
    "y = torch.tensor([[7,8,9], [10,11,12]])\n",
    "f = 2 * x + y\n",
    "print(f)"
   ]
  },
  {
   "cell_type": "markdown",
   "metadata": {},
   "source": [
    "### Default Value Initialization"
   ]
  },
  {
   "cell_type": "code",
   "execution_count": 6,
   "metadata": {},
   "outputs": [
    {
     "name": "stdout",
     "output_type": "stream",
     "text": [
      "tensor([[0., 0., 0.],\n",
      "        [0., 0., 0.]])\n",
      "tensor([[1., 1., 1.],\n",
      "        [1., 1., 1.]])\n",
      "tensor([[0.9754, 0.3332, 0.6192],\n",
      "        [0.2429, 0.7999, 0.9842]])\n"
     ]
    }
   ],
   "source": [
    "shape = [2,3]\n",
    "xzeros = torch.zeros(shape)\n",
    "xones = torch.ones(shape)\n",
    "xrnd = torch.rand(shape)\n",
    "print(xzeros)\n",
    "print(xones)\n",
    "print(xrnd)"
   ]
  },
  {
   "cell_type": "markdown",
   "metadata": {},
   "source": [
    "### Bad way to set seed (global seed)"
   ]
  },
  {
   "cell_type": "code",
   "execution_count": 7,
   "metadata": {},
   "outputs": [
    {
     "name": "stdout",
     "output_type": "stream",
     "text": [
      "tensor([[0.8823, 0.9150, 0.3829],\n",
      "        [0.9593, 0.3904, 0.6009]])\n"
     ]
    }
   ],
   "source": [
    "torch.manual_seed(42)\n",
    "print(torch.rand([2,3]))"
   ]
  },
  {
   "cell_type": "markdown",
   "metadata": {},
   "source": [
    "### Good way to set seed (using generator)"
   ]
  },
  {
   "cell_type": "code",
   "execution_count": 8,
   "metadata": {},
   "outputs": [
    {
     "name": "stdout",
     "output_type": "stream",
     "text": [
      "tensor([[0.8823, 0.9150, 0.3829],\n",
      "        [0.9593, 0.3904, 0.6009]])\n"
     ]
    }
   ],
   "source": [
    "generator = torch.Generator().manual_seed(42)\n",
    "print(torch.rand([2,3], generator=generator))"
   ]
  },
  {
   "cell_type": "markdown",
   "metadata": {},
   "source": [
    "### Converting between tensors and NumPy arrays"
   ]
  },
  {
   "cell_type": "code",
   "execution_count": 9,
   "metadata": {},
   "outputs": [
    {
     "name": "stdout",
     "output_type": "stream",
     "text": [
      "tensor([[ 8, 10, 12],\n",
      "        [14, 16, 18]])\n"
     ]
    },
    {
     "data": {
      "text/plain": "'torch.LongTensor'"
     },
     "execution_count": 9,
     "metadata": {},
     "output_type": "execute_result"
    }
   ],
   "source": [
    "xnp = np.array([[1,2,3],[4,5,6]])\n",
    "f2 = y + xnp\n",
    "print(f2)\n",
    "f2.type()"
   ]
  },
  {
   "cell_type": "code",
   "execution_count": 10,
   "metadata": {},
   "outputs": [
    {
     "name": "stdout",
     "output_type": "stream",
     "text": [
      "torch.LongTensor\n"
     ]
    },
    {
     "data": {
      "text/plain": "numpy.ndarray"
     },
     "execution_count": 10,
     "metadata": {},
     "output_type": "execute_result"
    }
   ],
   "source": [
    "print(f.type()) # call the tensors type method\n",
    "fnp = f.numpy() # create an array from the tensor\n",
    "type(fnp) # uses the python inbuilt type()"
   ]
  },
  {
   "cell_type": "code",
   "execution_count": 11,
   "metadata": {},
   "outputs": [
    {
     "name": "stdout",
     "output_type": "stream",
     "text": [
      "tensor([[1, 2, 3],\n",
      "        [4, 5, 6]], dtype=torch.int32)\n",
      "torch.IntTensor\n"
     ]
    }
   ],
   "source": [
    "xtensor = torch.tensor(xnp) # Don't use torch.from_numpy\n",
    "print(xtensor)\n",
    "print(xtensor.type())"
   ]
  },
  {
   "cell_type": "code",
   "execution_count": 12,
   "metadata": {},
   "outputs": [
    {
     "name": "stdout",
     "output_type": "stream",
     "text": [
      "False\n",
      "tensor([1., 0., 1.], dtype=torch.float64)\n"
     ]
    }
   ],
   "source": [
    "a = np.ones(3)                  \n",
    "t = torch.tensor(a)      # create a tensor from an array\n",
    "b = t.numpy()                # Create an array from the tensor\n",
    "b[1] = 0                     # change a value in the array\n",
    "print(a[1] == b[1])          # this value changes in the original array\n",
    "print(t)                     # and also in the tensor - they share the same memory"
   ]
  },
  {
   "cell_type": "markdown",
   "metadata": {},
   "source": [
    "### Data Types with Numpy and Pytorch"
   ]
  },
  {
   "cell_type": "code",
   "execution_count": 13,
   "metadata": {},
   "outputs": [
    {
     "data": {
      "text/plain": "'torch.CharTensor'"
     },
     "execution_count": 13,
     "metadata": {},
     "output_type": "execute_result"
    }
   ],
   "source": [
    "int8np = np.ones((2,3), dtype=np.int8)\n",
    "bad = torch.tensor(int8np)\n",
    "bad.type()"
   ]
  },
  {
   "cell_type": "code",
   "execution_count": 14,
   "metadata": {},
   "outputs": [
    {
     "data": {
      "text/plain": "'torch.IntTensor'"
     },
     "execution_count": 14,
     "metadata": {},
     "output_type": "execute_result"
    }
   ],
   "source": [
    "not_so_good = torch.tensor(int8np.astype(np.int32))\n",
    "not_so_good.type()"
   ]
  },
  {
   "cell_type": "code",
   "execution_count": 15,
   "metadata": {},
   "outputs": [
    {
     "data": {
      "text/plain": "'torch.IntTensor'"
     },
     "execution_count": 15,
     "metadata": {},
     "output_type": "execute_result"
    }
   ],
   "source": [
    "good = torch.tensor(int8np, dtype=torch.int)\n",
    "good.type()"
   ]
  },
  {
   "cell_type": "code",
   "execution_count": 16,
   "metadata": {},
   "outputs": [
    {
     "data": {
      "text/plain": "'torch.IntTensor'"
     },
     "execution_count": 16,
     "metadata": {},
     "output_type": "execute_result"
    }
   ],
   "source": [
    "xint = torch.ones((2,3), dtype=torch.int)\n",
    "xint.type()"
   ]
  },
  {
   "cell_type": "markdown",
   "metadata": {},
   "source": [
    "### Slicing and indexing and reshaping"
   ]
  },
  {
   "cell_type": "code",
   "execution_count": 17,
   "metadata": {},
   "outputs": [
    {
     "name": "stdout",
     "output_type": "stream",
     "text": [
      "tensor([1, 2, 3])\n",
      "tensor([4, 5])\n"
     ]
    }
   ],
   "source": [
    "print(x[0])\n",
    "print(x[1][0:2])"
   ]
  },
  {
   "cell_type": "code",
   "execution_count": 18,
   "metadata": {},
   "outputs": [
    {
     "name": "stdout",
     "output_type": "stream",
     "text": [
      "tensor([[1, 2, 3],\n",
      "        [4, 5, 6]])\n",
      "torch.Size([2, 3])\n",
      "tensor([1, 2, 3, 4, 5, 6])\n",
      "tensor([[1, 2],\n",
      "        [3, 4],\n",
      "        [5, 6]])\n",
      "tensor([[1],\n",
      "        [2],\n",
      "        [3],\n",
      "        [4],\n",
      "        [5],\n",
      "        [6]])\n"
     ]
    }
   ],
   "source": [
    "print(x)\n",
    "print(x.size())\n",
    "print(x.view(-1))\n",
    "print(x.view(3,2))\n",
    "print(x.view(6,1))"
   ]
  },
  {
   "cell_type": "code",
   "execution_count": 19,
   "metadata": {},
   "outputs": [
    {
     "name": "stdout",
     "output_type": "stream",
     "text": [
      "tensor([[1, 2],\n",
      "        [3, 4],\n",
      "        [5, 6]])\n"
     ]
    }
   ],
   "source": [
    "print(x.view(3,-1))"
   ]
  },
  {
   "cell_type": "code",
   "execution_count": 20,
   "metadata": {},
   "outputs": [
    {
     "name": "stdout",
     "output_type": "stream",
     "text": [
      "torch.Size([3, 2])\n"
     ]
    },
    {
     "data": {
      "text/plain": "torch.Size([2, 3])"
     },
     "execution_count": 20,
     "metadata": {},
     "output_type": "execute_result"
    }
   ],
   "source": [
    "print(x.transpose(0,1).size())\n",
    "x.size()"
   ]
  },
  {
   "cell_type": "code",
   "execution_count": 21,
   "metadata": {},
   "outputs": [
    {
     "name": "stdout",
     "output_type": "stream",
     "text": [
      "torch.Size([4, 3, 2, 1])\n",
      "torch.Size([4, 3, 2, 1])\n"
     ]
    }
   ],
   "source": [
    "a = torch.ones(1,2,3,4)\n",
    "print(a.transpose(0,3).transpose(1,2).size())    #swaps axis in two steps\n",
    "print(a.permute(3,2,1,0).size())                 #swaps all axis at once"
   ]
  },
  {
   "cell_type": "code",
   "execution_count": 22,
   "metadata": {},
   "outputs": [
    {
     "name": "stdout",
     "output_type": "stream",
     "text": [
      "tensor([[1, 2, 3],\n",
      "        [4, 5, 6]])\n",
      "tensor([[1, 4],\n",
      "        [2, 5],\n",
      "        [3, 6]])\n"
     ]
    }
   ],
   "source": [
    "print(x)\n",
    "x.transpose_(1,0)\n",
    "print(x)"
   ]
  },
  {
   "cell_type": "markdown",
   "metadata": {},
   "source": [
    "## 1. Load fish.csv and convert it to a tensor but ignore first column (Species). Split column \"Width\" as target variable and all other as input variables"
   ]
  },
  {
   "cell_type": "code",
   "execution_count": 23,
   "metadata": {},
   "outputs": [
    {
     "data": {
      "text/plain": "    Species  Length1  Length2  Length3   Height   Width\n0     Bream     23.2     25.4     30.0  11.5200  4.0200\n1     Bream     24.0     26.3     31.2  12.4800  4.3056\n2     Bream     23.9     26.5     31.1  12.3778  4.6961\n3     Bream     26.3     29.0     33.5  12.7300  4.4555\n4     Bream     26.5     29.0     34.0  12.4440  5.1340\n..      ...      ...      ...      ...      ...     ...\n154   Smelt     11.5     12.2     13.4   2.0904  1.3936\n155   Smelt     11.7     12.4     13.5   2.4300  1.2690\n156   Smelt     12.1     13.0     13.8   2.2770  1.2558\n157   Smelt     13.2     14.3     15.2   2.8728  2.0672\n158   Smelt     13.8     15.0     16.2   2.9322  1.8792\n\n[159 rows x 6 columns]",
      "text/html": "<div>\n<style scoped>\n    .dataframe tbody tr th:only-of-type {\n        vertical-align: middle;\n    }\n\n    .dataframe tbody tr th {\n        vertical-align: top;\n    }\n\n    .dataframe thead th {\n        text-align: right;\n    }\n</style>\n<table border=\"1\" class=\"dataframe\">\n  <thead>\n    <tr style=\"text-align: right;\">\n      <th></th>\n      <th>Species</th>\n      <th>Length1</th>\n      <th>Length2</th>\n      <th>Length3</th>\n      <th>Height</th>\n      <th>Width</th>\n    </tr>\n  </thead>\n  <tbody>\n    <tr>\n      <th>0</th>\n      <td>Bream</td>\n      <td>23.2</td>\n      <td>25.4</td>\n      <td>30.0</td>\n      <td>11.5200</td>\n      <td>4.0200</td>\n    </tr>\n    <tr>\n      <th>1</th>\n      <td>Bream</td>\n      <td>24.0</td>\n      <td>26.3</td>\n      <td>31.2</td>\n      <td>12.4800</td>\n      <td>4.3056</td>\n    </tr>\n    <tr>\n      <th>2</th>\n      <td>Bream</td>\n      <td>23.9</td>\n      <td>26.5</td>\n      <td>31.1</td>\n      <td>12.3778</td>\n      <td>4.6961</td>\n    </tr>\n    <tr>\n      <th>3</th>\n      <td>Bream</td>\n      <td>26.3</td>\n      <td>29.0</td>\n      <td>33.5</td>\n      <td>12.7300</td>\n      <td>4.4555</td>\n    </tr>\n    <tr>\n      <th>4</th>\n      <td>Bream</td>\n      <td>26.5</td>\n      <td>29.0</td>\n      <td>34.0</td>\n      <td>12.4440</td>\n      <td>5.1340</td>\n    </tr>\n    <tr>\n      <th>...</th>\n      <td>...</td>\n      <td>...</td>\n      <td>...</td>\n      <td>...</td>\n      <td>...</td>\n      <td>...</td>\n    </tr>\n    <tr>\n      <th>154</th>\n      <td>Smelt</td>\n      <td>11.5</td>\n      <td>12.2</td>\n      <td>13.4</td>\n      <td>2.0904</td>\n      <td>1.3936</td>\n    </tr>\n    <tr>\n      <th>155</th>\n      <td>Smelt</td>\n      <td>11.7</td>\n      <td>12.4</td>\n      <td>13.5</td>\n      <td>2.4300</td>\n      <td>1.2690</td>\n    </tr>\n    <tr>\n      <th>156</th>\n      <td>Smelt</td>\n      <td>12.1</td>\n      <td>13.0</td>\n      <td>13.8</td>\n      <td>2.2770</td>\n      <td>1.2558</td>\n    </tr>\n    <tr>\n      <th>157</th>\n      <td>Smelt</td>\n      <td>13.2</td>\n      <td>14.3</td>\n      <td>15.2</td>\n      <td>2.8728</td>\n      <td>2.0672</td>\n    </tr>\n    <tr>\n      <th>158</th>\n      <td>Smelt</td>\n      <td>13.8</td>\n      <td>15.0</td>\n      <td>16.2</td>\n      <td>2.9322</td>\n      <td>1.8792</td>\n    </tr>\n  </tbody>\n</table>\n<p>159 rows × 6 columns</p>\n</div>"
     },
     "execution_count": 23,
     "metadata": {},
     "output_type": "execute_result"
    }
   ],
   "source": [
    "import pandas as pd\n",
    "fish_data = pd.read_csv('fish.csv')\n",
    "fish_data"
   ]
  },
  {
   "cell_type": "code",
   "execution_count": 24,
   "metadata": {},
   "outputs": [],
   "source": [
    "X = fish_data[['Length1', 'Length2', 'Length3', 'Height']].to_numpy() # Input variables (Numpy)\n",
    "y = fish_data[['Width']].to_numpy() # Target Variable (Numpy)\n",
    "X,y = torch.tensor(X), torch.tensor(y)"
   ]
  },
  {
   "cell_type": "markdown",
   "metadata": {},
   "source": [
    "## 2. Split fish_data into training (n=127) and test set (n=32), randomly."
   ]
  },
  {
   "cell_type": "code",
   "execution_count": 25,
   "metadata": {},
   "outputs": [
    {
     "name": "stdout",
     "output_type": "stream",
     "text": [
      "torch.Size([127, 4]) torch.Size([32, 4])\n",
      "torch.Size([127, 1]) torch.Size([32, 1])\n"
     ]
    }
   ],
   "source": [
    "generator = torch.Generator().manual_seed(42)\n",
    "idx = torch.randperm(X.shape[0], generator=generator)\n",
    "X_train, X_test = X[idx[:127],:], X[idx[127:],:]\n",
    "y_train, y_test = y[idx[:127],:], y[idx[127:],:]\n",
    "print(X_train.shape, X_test.shape)\n",
    "print(y_train.shape, y_test.shape)"
   ]
  },
  {
   "cell_type": "markdown",
   "metadata": {},
   "source": [
    "## 3.1. Normalize Dataset: X = (X - X.min) / (X.max - X.min)"
   ]
  },
  {
   "cell_type": "code",
   "execution_count": 26,
   "metadata": {},
   "outputs": [],
   "source": [
    "# Lambda Function\n",
    "normalize = lambda z, z_min, z_max: (z - z_min) / (z_max - z_min + 1e-5) \n",
    "\n",
    "# Normalize X\n",
    "x_min, x_max = X_train.min(0, keepdims=True)[0], X_train.max(0, keepdims=True)[0]\n",
    "X_train_n, X_test_n = normalize(X_train, x_min, x_max), normalize(X_test, x_min, x_max)\n",
    "# Normalize y\n",
    "y_min, y_max = y_train.min(0, keepdims=True)[0], y_train.max(0, keepdims=True)[0]\n",
    "y_train_n, y_test_n = normalize(y_train, y_min, y_max), normalize(y_test, y_min, y_max)"
   ]
  },
  {
   "cell_type": "markdown",
   "metadata": {},
   "source": [
    "## 3.2. Standardize Dataset: X = (X - X.mean) / X.std"
   ]
  },
  {
   "cell_type": "code",
   "execution_count": 27,
   "metadata": {},
   "outputs": [],
   "source": [
    "# Lambda Function\n",
    "standardize = lambda z, z_mean, z_std: (z - z_mean) / (z_std + 1e-5) \n",
    "\n",
    "# Standardize X\n",
    "x_mean, x_std = X_train.mean(0, keepdims=True), X_train.std(0, keepdims=True)\n",
    "X_train_s, X_test_s = standardize(X_train, x_mean, x_std), standardize(X_test, x_mean, x_std)\n",
    "# Standardize y\n",
    "y_mean, y_std = y_train.mean(0, keepdims=True), y_train.std(0, keepdims=True)\n",
    "y_train_s, y_test_s = standardize(y_train, y_mean, y_std), standardize(y_test, y_mean, y_std)"
   ]
  },
  {
   "cell_type": "markdown",
   "metadata": {},
   "source": [
    "## 4. Plot normalized, standardized vs non-normalized"
   ]
  },
  {
   "cell_type": "code",
   "execution_count": 28,
   "metadata": {},
   "outputs": [
    {
     "data": {
      "text/plain": "<matplotlib.collections.PathCollection at 0x186fddd9690>"
     },
     "execution_count": 28,
     "metadata": {},
     "output_type": "execute_result"
    },
    {
     "data": {
      "text/plain": "<Figure size 1200x480 with 2 Axes>",
      "image/png": "[encoded data removed]"
     },
     "metadata": {},
     "output_type": "display_data"
    }
   ],
   "source": [
    "from matplotlib import pyplot as plt\n",
    "# Create Subplot with two Figures\n",
    "fig, (ax1, ax2) = plt.subplots(1, 2)\n",
    "fig.set_figwidth(12)\n",
    "fig.suptitle('Normalized Data on the right')\n",
    "\n",
    "# Plot original data\n",
    "ax1.set_ylim(0,100), ax1.set_xlim(0,100) # Set axis to be in range (0,100)\n",
    "ax1.scatter(X_train[:,0], X_train[:,3], s=5) # Plot train data in blue\n",
    "ax1.scatter(X_test[:,0], X_test[:,3], s=5) # Plot test data in orange\n",
    "\n",
    "# Plot normalized data\n",
    "ax2.set_ylim(0,1), ax2.set_xlim(0,1) # Set axis to be in range (0, 1)\n",
    "ax2.scatter(X_train_n[:,0], X_train_n[:,3], s=5) # Plot train data in blue\n",
    "ax2.scatter(X_test_n[:,0], X_test_n[:,3], s=5) # Plot test data in orange"
   ]
  },
  {
   "cell_type": "code",
   "execution_count": 29,
   "metadata": {},
   "outputs": [
    {
     "data": {
      "text/plain": "<matplotlib.collections.PathCollection at 0x186fe15c970>"
     },
     "execution_count": 29,
     "metadata": {},
     "output_type": "execute_result"
    },
    {
     "data": {
      "text/plain": "<Figure size 1200x480 with 2 Axes>",
      "image/png": "[encoded data removed]"
     },
     "metadata": {},
     "output_type": "display_data"
    }
   ],
   "source": [
    "# Create Subplot with two Figures\n",
    "fig, (ax1, ax2) = plt.subplots(1, 2)\n",
    "fig.set_figwidth(12)\n",
    "fig.suptitle('Standardized Data on the right')\n",
    "\n",
    "# Plot original data\n",
    "ax1.set_ylim(0,100), ax1.set_xlim(0,100) # Set axis to be in range (0,100)\n",
    "ax1.scatter(X_train[:,0], X_train[:,3], s=5) # Plot train data in blue\n",
    "ax1.scatter(X_test[:,0], X_test[:,3], s=5) # Plot test data in orange\n",
    "\n",
    "# Plot standardized data\n",
    "ax2.set_ylim(-3,3), ax2.set_xlim(-3,3) # Set axis to be in range (-3, 3)\n",
    "ax2.scatter(X_train_s[:,0], X_train_s[:,3], s=5) # Plot train data in blue\n",
    "ax2.scatter(X_test_s[:,0], X_test_s[:,3], s=5) # Plot test data in orange"
   ]
  },
  {
   "cell_type": "markdown",
   "metadata": {},
   "source": [
    "## 5. Create Dummy Variables for Species"
   ]
  },
  {
   "cell_type": "code",
   "execution_count": 30,
   "metadata": {},
   "outputs": [
    {
     "data": {
      "text/plain": "array([23.2 , 25.4 , 30.  , 11.52,  1.  ,  0.  ,  0.  ,  0.  ,  0.  ,\n        0.  ,  0.  ])"
     },
     "execution_count": 30,
     "metadata": {},
     "output_type": "execute_result"
    }
   ],
   "source": [
    "# Create Dummy Variables\n",
    "dataset = pd.get_dummies(fish_data[['Length1', 'Length2', 'Length3', 'Height', 'Species']], dtype=float).to_numpy()\n",
    "dataset"
   ]
  },
  {
   "cell_type": "code",
   "execution_count": 30,
   "metadata": {},
   "outputs": [],
   "source": []
  }
 ],
 "metadata": {
  "kernelspec": {
   "display_name": "Python 3 (ipykernel)",
   "language": "python",
   "name": "python3"
  },
  "language_info": {
   "codemirror_mode": {
    "name": "ipython",
    "version": 3
   },
   "file_extension": ".py",
   "mimetype": "text/x-python",
   "name": "python",
   "nbconvert_exporter": "python",
   "pygments_lexer": "ipython3",
   "version": "3.11.3"
  }
 },
 "nbformat": 4,
 "nbformat_minor": 2
}
