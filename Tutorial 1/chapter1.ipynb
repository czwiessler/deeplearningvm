{
 "cells": [
  {
   "cell_type": "code",
   "execution_count": null,
   "metadata": {},
   "outputs": [],
   "source": [
    "#!pip install torch numpy pandas matplotlib"
   ]
  },
  {
   "cell_type": "code",
   "execution_count": null,
   "metadata": {},
   "outputs": [],
   "source": [
    "import torch\n",
    "import numpy as np"
   ]
  },
  {
   "cell_type": "markdown",
   "metadata": {},
   "source": [
    "### Create a Numpy Array and compute 2 * x + y"
   ]
  },
  {
   "cell_type": "code",
   "execution_count": null,
   "metadata": {},
   "outputs": [],
   "source": [
    "x = np.array([[1,2,3], [4,5,6]])\n",
    "y = np.array([[7,8,9], [10,11,12]])\n",
    "f = 2 * x + y\n",
    "print(f)"
   ]
  },
  {
   "cell_type": "markdown",
   "metadata": {},
   "source": [
    "### Create a Tensor and compute 2 * x + y"
   ]
  },
  {
   "cell_type": "code",
   "execution_count": null,
   "metadata": {},
   "outputs": [],
   "source": [
    "x = torch.tensor([[1,2,3], [4,5,6]])\n",
    "y = torch.tensor([[7,8,9], [10,11,12]])\n",
    "f = 2 * x + y\n",
    "print(f)"
   ]
  },
  {
   "cell_type": "markdown",
   "metadata": {},
   "source": [
    "### Default Value Initialization"
   ]
  },
  {
   "cell_type": "code",
   "execution_count": null,
   "metadata": {},
   "outputs": [],
   "source": [
    "shape = [2,3]\n",
    "xzeros = torch.zeros(shape)\n",
    "xones = torch.ones(shape)\n",
    "xrnd = torch.rand(shape)\n",
    "print(xzeros)\n",
    "print(xones)\n",
    "print(xrnd)"
   ]
  },
  {
   "cell_type": "markdown",
   "metadata": {},
   "source": [
    "### Bad way to set seed (global seed)"
   ]
  },
  {
   "cell_type": "code",
   "execution_count": null,
   "metadata": {},
   "outputs": [],
   "source": [
    "torch.manual_seed(42)\n",
    "print(torch.rand([2,3]))"
   ]
  },
  {
   "cell_type": "markdown",
   "metadata": {},
   "source": [
    "### Good way to set seed (using generator)"
   ]
  },
  {
   "cell_type": "code",
   "execution_count": null,
   "metadata": {},
   "outputs": [],
   "source": [
    "generator = torch.Generator().manual_seed(42)\n",
    "print(torch.rand([2,3], generator=generator))"
   ]
  },
  {
   "cell_type": "markdown",
   "metadata": {},
   "source": [
    "### Converting between tensors and NumPy arrays"
   ]
  },
  {
   "cell_type": "code",
   "execution_count": null,
   "metadata": {},
   "outputs": [],
   "source": [
    "xnp = np.array([[1,2,3],[4,5,6]])\n",
    "f2 = y + xnp\n",
    "print(f2)\n",
    "f2.type()"
   ]
  },
  {
   "cell_type": "code",
   "execution_count": null,
   "metadata": {},
   "outputs": [],
   "source": [
    "print(f.type()) # call the tensors type method\n",
    "fnp = f.numpy() # create an array from the tensor\n",
    "type(fnp) # uses the python inbuilt type()"
   ]
  },
  {
   "cell_type": "code",
   "execution_count": null,
   "metadata": {},
   "outputs": [],
   "source": [
    "xtensor = torch.tensor(xnp) # Don't use torch.from_numpy\n",
    "print(xtensor)\n",
    "print(xtensor.type())"
   ]
  },
  {
   "cell_type": "code",
   "execution_count": null,
   "metadata": {},
   "outputs": [],
   "source": [
    "a = np.ones(3)                  \n",
    "t = torch.tensor(a)      # create a tensor from an array\n",
    "b = t.numpy()                # Create an array from the tensor\n",
    "b[1] = 0                     # change a value in the array\n",
    "print(a[1] == b[1])          # this value changes in the original array\n",
    "print(t)                     # and also in the tensor - they share the same memory"
   ]
  },
  {
   "cell_type": "markdown",
   "metadata": {},
   "source": [
    "### Data Types with Numpy and Pytorch"
   ]
  },
  {
   "cell_type": "code",
   "execution_count": null,
   "metadata": {},
   "outputs": [],
   "source": [
    "int8np = np.ones((2,3), dtype=np.int8)\n",
    "bad = torch.tensor(int8np)\n",
    "bad.type()"
   ]
  },
  {
   "cell_type": "code",
   "execution_count": null,
   "metadata": {},
   "outputs": [],
   "source": [
    "not_so_good = torch.tensor(int8np.astype(np.int32))\n",
    "not_so_good.type()"
   ]
  },
  {
   "cell_type": "code",
   "execution_count": null,
   "metadata": {},
   "outputs": [],
   "source": [
    "good = torch.tensor(int8np, dtype=torch.int)\n",
    "good.type()"
   ]
  },
  {
   "cell_type": "code",
   "execution_count": null,
   "metadata": {},
   "outputs": [],
   "source": [
    "xint = torch.ones((2,3), dtype=torch.int)\n",
    "xint.type()"
   ]
  },
  {
   "cell_type": "markdown",
   "metadata": {},
   "source": [
    "### Slicing and indexing and reshaping"
   ]
  },
  {
   "cell_type": "code",
   "execution_count": null,
   "metadata": {},
   "outputs": [],
   "source": [
    "print(x[0])\n",
    "print(x[1][0:2])"
   ]
  },
  {
   "cell_type": "code",
   "execution_count": null,
   "metadata": {},
   "outputs": [],
   "source": [
    "print(x)\n",
    "print(x.size())\n",
    "print(x.view(-1))\n",
    "print(x.view(3,2))\n",
    "print(x.view(6,1))"
   ]
  },
  {
   "cell_type": "code",
   "execution_count": null,
   "metadata": {},
   "outputs": [],
   "source": [
    "print(x.view(3,-1))"
   ]
  },
  {
   "cell_type": "code",
   "execution_count": null,
   "metadata": {},
   "outputs": [],
   "source": [
    "print(x.transpose(0,1).size())\n",
    "x.size()"
   ]
  },
  {
   "cell_type": "code",
   "execution_count": null,
   "metadata": {},
   "outputs": [],
   "source": [
    "a = torch.ones(1,2,3,4)\n",
    "print(a.transpose(0,3).transpose(1,2).size())    #swaps axis in two steps\n",
    "print(a.permute(3,2,1,0).size())                 #swaps all axis at once"
   ]
  },
  {
   "cell_type": "code",
   "execution_count": null,
   "metadata": {},
   "outputs": [],
   "source": [
    "print(x)\n",
    "x.transpose_(1,0)\n",
    "print(x)"
   ]
  },
  {
   "cell_type": "markdown",
   "metadata": {},
   "source": [
    "## 1. Load fish.csv and convert it to a tensor but ignore first column (Species). Split column \"Width\" as target variable and all other as input variables"
   ]
  },
  {
   "cell_type": "code",
   "execution_count": null,
   "metadata": {},
   "outputs": [],
   "source": [
    "import pandas as pd\n",
    "fish_data = ...\n",
    "fish_data"
   ]
  },
  {
   "cell_type": "code",
   "execution_count": null,
   "metadata": {},
   "outputs": [],
   "source": [
    "X = fish_data[...].to_numpy() # Input variables (Numpy)\n",
    "y = ... # Target Variable (Numpy)\n",
    "X,y = torch.tensor(X), torch.tensor(y)"
   ]
  },
  {
   "cell_type": "markdown",
   "metadata": {},
   "source": [
    "## 2. Split fish_data into training (n=127) and test set (n=32), randomly."
   ]
  },
  {
   "cell_type": "code",
   "execution_count": null,
   "metadata": {},
   "outputs": [],
   "source": [
    "generator = torch.Generator().manual_seed(42)\n",
    "idx = ...\n",
    "X_train, X_test = ...\n",
    "y_train, y_test = ..."
   ]
  },
  {
   "cell_type": "markdown",
   "metadata": {},
   "source": [
    "## 3.1. Normalize Dataset: X = (X - X.min) / (X.max - X.min)"
   ]
  },
  {
   "cell_type": "code",
   "execution_count": null,
   "metadata": {},
   "outputs": [],
   "source": [
    "# Lambda Function\n",
    "normalize = lambda z, z_min, z_max: ...\n",
    "\n",
    "# Normalize X\n",
    "x_min, x_max = ...\n",
    "X_train_n, X_test_n = ...\n",
    "# Normalize y\n",
    "..."
   ]
  },
  {
   "cell_type": "markdown",
   "metadata": {},
   "source": [
    "## 3.2. Standardize Dataset: X = (X - X.mean) / X.std"
   ]
  },
  {
   "cell_type": "code",
   "execution_count": null,
   "metadata": {},
   "outputs": [],
   "source": [
    "# Lambda Function\n",
    "standardize = lambda z, z_mean, z_std: ...\n",
    "\n",
    "# Standardize X\n",
    "x_mean, x_std = ...\n",
    "X_train_s, X_test_s = ...\n",
    "# Standardize y\n",
    "..."
   ]
  },
  {
   "cell_type": "markdown",
   "metadata": {},
   "source": [
    "## 4. Plot normalized, standardized vs non-normalized"
   ]
  },
  {
   "cell_type": "code",
   "execution_count": null,
   "metadata": {},
   "outputs": [],
   "source": [
    "from matplotlib import pyplot as plt\n",
    "# Create Subplot with two Figures\n",
    "fig, (ax1, ax2) = plt.subplots(1, 2)\n",
    "fig.set_figwidth(12)\n",
    "fig.suptitle('Normalized Data on the right')\n",
    "\n",
    "# Plot original data\n",
    "ax1.set_ylim(0,100), ax1.set_xlim(0,100) # Set axis to be in range (0,100)\n",
    "ax1.scatter(..., s=5) # Plot train data in blue\n",
    "ax1.scatter(..., s=5) # Plot test data in orange\n",
    "\n",
    "# Plot normalized data\n",
    "ax2.set_ylim(0,1), ax2.set_xlim(0,1) # Set axis to be in range (0, 1)\n",
    "..."
   ]
  },
  {
   "cell_type": "code",
   "execution_count": null,
   "metadata": {},
   "outputs": [],
   "source": [
    "# Create Subplot with two Figures\n",
    "fig, (ax1, ax2) = plt.subplots(1, 2)\n",
    "fig.set_figwidth(12)\n",
    "fig.suptitle('Standardized Data on the right')\n",
    "\n",
    "# Plot original data\n",
    "ax1.set_ylim(0,100), ax1.set_xlim(0,100) # Set axis to be in range (0,100)\n",
    "ax1.scatter(..., s=5) # Plot train data in blue\n",
    "ax1.scatter(..., s=5) # Plot test data in orange\n",
    "\n",
    "# Plot standardized data\n",
    "ax2.set_ylim(-3,3), ax2.set_xlim(-3,3) # Set axis to be in range (-3, 3)\n",
    "..."
   ]
  },
  {
   "cell_type": "markdown",
   "metadata": {},
   "source": [
    "## 5. Create Dummy Variables for Species"
   ]
  },
  {
   "cell_type": "code",
   "execution_count": null,
   "metadata": {},
   "outputs": [],
   "source": [
    "# Create Dummy Variables\n",
    "..."
   ]
  },
  {
   "cell_type": "code",
   "execution_count": null,
   "metadata": {},
   "outputs": [],
   "source": []
  }
 ],
 "metadata": {
  "kernelspec": {
   "display_name": "Python 3 (ipykernel)",
   "language": "python",
   "name": "python3"
  },
  "language_info": {
   "codemirror_mode": {
    "name": "ipython",
    "version": 3
   },
   "file_extension": ".py",
   "mimetype": "text/x-python",
   "name": "python",
   "nbconvert_exporter": "python",
   "pygments_lexer": "ipython3",
   "version": "3.11.3"
  }
 },
 "nbformat": 4,
 "nbformat_minor": 2
}
