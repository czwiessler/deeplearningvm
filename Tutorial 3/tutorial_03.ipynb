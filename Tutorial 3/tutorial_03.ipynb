{
 "cells": [
  {
   "cell_type": "code",
   "execution_count": null,
   "id": "918a149d",
   "metadata": {},
   "outputs": [],
   "source": [
    "import pandas as pd\n",
    "import numpy as np\n",
    "from sklearn.model_selection import train_test_split"
   ]
  },
  {
   "cell_type": "markdown",
   "id": "58103ac6",
   "metadata": {},
   "source": [
    "### First, we load the titatic dataset and convert all categorical variables to one-hot"
   ]
  },
  {
   "cell_type": "code",
   "execution_count": null,
   "id": "de2501c7",
   "metadata": {},
   "outputs": [],
   "source": [
    "data_frame = pd.read_csv('titanic.csv')\n",
    "data_frame = data_frame.drop(['Name', 'Ticket', 'Cabin'], axis=1)\n",
    "data_frame = pd.get_dummies(data_frame, columns=[...])\n",
    "data_frame = data_frame.fillna(data_frame.mean())\n",
    "data_frame"
   ]
  },
  {
   "cell_type": "markdown",
   "id": "d6d57442",
   "metadata": {},
   "source": [
    "### Next, we convert the dataset to a NumPy array and normalize it"
   ]
  },
  {
   "cell_type": "code",
   "execution_count": null,
   "id": "d69c4087",
   "metadata": {},
   "outputs": [],
   "source": [
    "labels = data_frame[['Survived']].to_numpy().astype(float)\n",
    "observ = data_frame.drop(['PassengerId', 'Survived'], axis=1).to_numpy().astype(float)\n",
    "X_train, X_test, y_train, y_test = train_test_split(observ, labels, test_size=0.25, random_state=42)"
   ]
  },
  {
   "cell_type": "code",
   "execution_count": null,
   "id": "55cc6cf2",
   "metadata": {},
   "outputs": [],
   "source": [
    "# We have to normalize Age and Fare, so columns 0,3\n",
    "age_min, age_max = ...\n",
    "fare_min, fare_max = ...\n",
    "# Apply\n",
    "X_train[:,0] = (X_train[:,0] - age_min) / (age_max - age_min + 1e-5)\n",
    "X_test[:,0] = (X_test[:,0] - age_min) / (age_max - age_min + 1e-5)\n",
    "X_train[:,3] = (X_train[:,3] - fare_min) / (fare_max - fare_min + 1e-5)\n",
    "X_test[:,3] = (X_test[:,3] - fare_min) / (fare_max - fare_min + 1e-5)"
   ]
  },
  {
   "cell_type": "markdown",
   "id": "4c978636",
   "metadata": {},
   "source": [
    "### Now, let's create our sequential model with four linear layers"
   ]
  },
  {
   "cell_type": "code",
   "execution_count": null,
   "id": "c5ad6c9f",
   "metadata": {},
   "outputs": [],
   "source": [
    "import torch, torch.nn as nn, torch.nn.functional as F\n",
    "first_model = nn.Sequential(\n",
    "    nn.Linear(..., 256),\n",
    "    nn.ReLU(),\n",
    "    nn.Dropout(),\n",
    "    \n",
    "    nn.Linear(256, 128),\n",
    "    nn.ReLU(),\n",
    "    nn.Dropout(),\n",
    "    \n",
    "    nn.Linear(128, 64),\n",
    "    nn.ReLU(),\n",
    "    nn.Dropout(),\n",
    "    \n",
    "    nn.Linear(64, 1),\n",
    "    nn.Sigmoid()\n",
    ")"
   ]
  },
  {
   "cell_type": "markdown",
   "id": "bb5d05f0",
   "metadata": {},
   "source": [
    "### We can already apply it to our test dataset"
   ]
  },
  {
   "cell_type": "code",
   "execution_count": null,
   "id": "05f5b5b3",
   "metadata": {},
   "outputs": [],
   "source": [
    "first_model(torch.tensor(X_test[:20], dtype=torch.float))"
   ]
  },
  {
   "cell_type": "markdown",
   "id": "661e2188",
   "metadata": {},
   "source": [
    "### Now, let's fit our model"
   ]
  },
  {
   "cell_type": "code",
   "execution_count": null,
   "id": "0e6631ad",
   "metadata": {},
   "outputs": [],
   "source": [
    "first_model.fit(X_train, y_train, X_test, y_test)"
   ]
  },
  {
   "cell_type": "markdown",
   "id": "44284ecb",
   "metadata": {},
   "source": [
    "### As you may have seen, this does not work. We have to implement the training ourselves!"
   ]
  },
  {
   "cell_type": "code",
   "execution_count": null,
   "id": "de5b3c44",
   "metadata": {},
   "outputs": [],
   "source": [
    "class MyMLPModel(nn.Module):\n",
    "    def __init__(self, input, *hidden_layers, lr=0.1, dropout=0.2):\n",
    "        super().__init__() # <- Very important!\n",
    "        self.lr = lr\n",
    "        ## Build model\n",
    "        n_neurons = [input] + list(hidden_layers)\n",
    "        self.layers = []\n",
    "        for i, o in zip(n_neurons[:-1], n_neurons[1:]):\n",
    "            self.layers += [\n",
    "                ...\n",
    "            ]\n",
    "        self.layers += [\n",
    "            ...\n",
    "        ]\n",
    "        \n",
    "        self.layers = nn.Sequential(*self.layers) # Create a sequential model\n",
    "        \n",
    "    def forward(self, X):\n",
    "        return self.layers(X)\n",
    "    \n",
    "    def predict(self, X, th=0.5):\n",
    "        X = torch.tensor(X, dtype=torch.float)\n",
    "        with torch.no_grad():\n",
    "            y_hat = ...\n",
    "        return (...).float()\n",
    "    \n",
    "    def train_step(self, X, y):\n",
    "        y_hat = self(X)\n",
    "        return ...\n",
    "        \n",
    "    def validation_step(self, X, y):\n",
    "        with torch.no_grad():\n",
    "            return ...\n",
    "    \n",
    "    def configure_optimizers(self):\n",
    "        optimizer = torch.optim.SGD(self.parameters(), lr=self.lr)\n",
    "        return optimizer\n",
    "        \n",
    "    def fit(self, X_train, y_train, X_valid, y_valid, epochs=10):\n",
    "        ## Convert dataset\n",
    "        X_train = torch.tensor(X_train, dtype=torch.float)\n",
    "        y_train = torch.tensor(y_train, dtype=torch.float)\n",
    "        \n",
    "        X_valid = torch.tensor(X_valid, dtype=torch.float)\n",
    "        y_valid = torch.tensor(y_valid, dtype=torch.float)\n",
    "        \n",
    "        ## Load Optimizer\n",
    "        optimizer = self.configure_optimizers()\n",
    "        \n",
    "        for epoch in range(epochs):\n",
    "            print(f'{epoch+1}/{epochs}:')\n",
    "            # Training\n",
    "            self.train() # Set model to training mode\n",
    "            ... # Sets all gradients to Zero\n",
    "            loss = ...# Execute Forward pass and calculate Loss\n",
    "            ... # Execute Backward pass\n",
    "            ... # Update weights\n",
    "            self.eval() # Set model to validation mode\n",
    "            \n",
    "            # Validation\n",
    "            loss_valid = ...\n",
    "            print(f'Training Loss: {loss.item():1.4f}', f'Validation Loss: {loss_valid.item():1.4f}')\n",
    "            \n",
    "        return self"
   ]
  },
  {
   "cell_type": "markdown",
   "id": "c3d4f12f",
   "metadata": {},
   "source": [
    "### Create a model similar to the one before"
   ]
  },
  {
   "cell_type": "code",
   "execution_count": null,
   "id": "f7cdd767",
   "metadata": {},
   "outputs": [],
   "source": [
    "second_model = MyMLPModel(X_train.shape[1], 32, 16, 8, 4)\n",
    "second_model"
   ]
  },
  {
   "cell_type": "code",
   "execution_count": null,
   "id": "ef8b6bdd",
   "metadata": {},
   "outputs": [],
   "source": [
    "second_model.predict(X_test[:20])"
   ]
  },
  {
   "cell_type": "markdown",
   "id": "2eee888a",
   "metadata": {},
   "source": [
    "### Train it and calculate the test accuracy "
   ]
  },
  {
   "cell_type": "code",
   "execution_count": null,
   "id": "1343e931",
   "metadata": {},
   "outputs": [],
   "source": [
    "second_model = second_model.fit(X_train, y_train, X_test, y_test, epochs=1000)"
   ]
  },
  {
   "cell_type": "code",
   "execution_count": null,
   "id": "d6554ff5",
   "metadata": {},
   "outputs": [],
   "source": [
    "from sklearn.metrics import accuracy_score\n",
    "y_pred = second_model.predict(X_test)\n",
    "accuracy_score(y_test, y_pred)"
   ]
  },
  {
   "cell_type": "code",
   "execution_count": null,
   "id": "c1632ddf",
   "metadata": {},
   "outputs": [],
   "source": []
  },
  {
   "cell_type": "code",
   "execution_count": null,
   "id": "401e1db8",
   "metadata": {},
   "outputs": [],
   "source": []
  },
  {
   "cell_type": "code",
   "execution_count": null,
   "id": "e2cf3705",
   "metadata": {},
   "outputs": [],
   "source": []
  }
 ],
 "metadata": {
  "kernelspec": {
   "display_name": "Python 3 (ipykernel)",
   "language": "python",
   "name": "python3"
  },
  "language_info": {
   "codemirror_mode": {
    "name": "ipython",
    "version": 3
   },
   "file_extension": ".py",
   "mimetype": "text/x-python",
   "name": "python",
   "nbconvert_exporter": "python",
   "pygments_lexer": "ipython3",
   "version": "3.11.3"
  }
 },
 "nbformat": 4,
 "nbformat_minor": 5
}
